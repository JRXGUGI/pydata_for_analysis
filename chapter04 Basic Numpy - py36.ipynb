{
 "cells": [
  {
   "cell_type": "code",
   "execution_count": 1,
   "metadata": {
    "ExecuteTime": {
     "end_time": "2019-02-28T10:07:58.099921Z",
     "start_time": "2019-02-28T10:07:58.086920Z"
    }
   },
   "outputs": [],
   "source": [
    "# 一个cell做多个输出\n",
    "from IPython.core.interactiveshell import InteractiveShell\n",
    "InteractiveShell.ast_node_interactivity = \"all\" "
   ]
  },
  {
   "cell_type": "markdown",
   "metadata": {},
   "source": [
    "Numpy 可高效处理大数组数据\n",
    "> 书中内容讲述的较为浅显，详细的参考相关的有道笔记 和 jupyer中 numpy test代码 及 官网api\n",
    "\n",
    "- 连续内存，内存消耗更下；\n",
    "- 数组级别运算，避免for循环"
   ]
  },
  {
   "cell_type": "code",
   "execution_count": 2,
   "metadata": {
    "ExecuteTime": {
     "end_time": "2019-02-28T10:08:02.919196Z",
     "start_time": "2019-02-28T10:07:58.127922Z"
    }
   },
   "outputs": [
    {
     "name": "stdout",
     "output_type": "stream",
     "text": [
      "Wall time: 102 ms\n",
      "Wall time: 4.29 s\n"
     ]
    }
   ],
   "source": [
    "import numpy as np\n",
    "\n",
    "my_arr = np.arange(1000000)\n",
    "my_list = list(range(1000000))\n",
    "\n",
    "%time for _ in range(10):my_arr2 = my_arr*2\n",
    "%time for _ in range(10):my_list2 = [x*2 for x in my_list]"
   ]
  },
  {
   "cell_type": "markdown",
   "metadata": {},
   "source": [
    "## ndarray 一种多维数组对象\n",
    "- 1、 同构多维容器 （shape & dtype）\n",
    "- 2、 基于二维数组的运算（行列级运算 及 矩阵运算） \n",
    "- 3、 常用内置函数如下：![](./datasets/np_func.png)"
   ]
  },
  {
   "cell_type": "code",
   "execution_count": 3,
   "metadata": {
    "ExecuteTime": {
     "end_time": "2019-02-28T10:08:03.084206Z",
     "start_time": "2019-02-28T10:08:02.964199Z"
    }
   },
   "outputs": [
    {
     "data": {
      "text/plain": [
       "(array([[ 1.2162022 , -1.63071553, -0.87647209],\n",
       "        [-0.72411465, -1.42936054,  0.24885842]]),\n",
       " array([[ 2.4324044 , -3.26143107, -1.75294418],\n",
       "        [-1.44822931, -2.85872107,  0.49771684]]),\n",
       " array([[ 12.16202202, -16.30715533,  -8.76472092],\n",
       "        [ -7.24114653, -14.29360536,   2.48858418]]))"
      ]
     },
     "execution_count": 3,
     "metadata": {},
     "output_type": "execute_result"
    },
    {
     "data": {
      "text/plain": [
       "array([[0., 0., 0., 0., 0., 0.],\n",
       "       [0., 0., 0., 0., 0., 0.],\n",
       "       [0., 0., 0., 0., 0., 0.]])"
      ]
     },
     "execution_count": 3,
     "metadata": {},
     "output_type": "execute_result"
    },
    {
     "data": {
      "text/plain": [
       "array([[12.16202202, 16.30715533,  8.76472092],\n",
       "       [ 7.24114653, 14.29360536,  2.48858418]])"
      ]
     },
     "execution_count": 3,
     "metadata": {},
     "output_type": "execute_result"
    }
   ],
   "source": [
    "# 生成随机数据 并做运算\n",
    "data = np.random.randn(2,3)\n",
    "data, data+data, data*10\n",
    "\n",
    "# 生成， 使用array函数，注意其参数\n",
    "# help(np.array)\n",
    "\n",
    "# 常用内置方法\n",
    "# 1 生成特殊数组 （np.zeros/np.ones/np.empty 等 具体参考官网api）\n",
    "np.zeros((3, 6))\n",
    "np.empty((2,3))\n",
    "\n",
    "# 2 常用 arange(range函数的数组版本)"
   ]
  },
  {
   "cell_type": "markdown",
   "metadata": {},
   "source": [
    "## ndarray数据类型\n",
    "- 使用dtype属性查看ndarray对象每个元素的数据类型：ndarray_obj.dtype\n",
    "- 强制元素数据转换使用astype函数进行，参数为被转换的数据类型，针对全部元素，不建议在此执行，使用pandas执行更灵活\n",
    "> 补充：除数值型（np.int32 np.float64 ） 其他均使用object类型，避免数据转换时精度丢失； astype的参数可视图other_obj.dtype,不过意义不大\n",
    "- "
   ]
  },
  {
   "cell_type": "code",
   "execution_count": 4,
   "metadata": {
    "ExecuteTime": {
     "end_time": "2019-02-28T10:08:03.320219Z",
     "start_time": "2019-02-28T10:08:03.108207Z"
    }
   },
   "outputs": [
    {
     "data": {
      "text/plain": [
       "dtype('float64')"
      ]
     },
     "execution_count": 4,
     "metadata": {},
     "output_type": "execute_result"
    },
    {
     "data": {
      "text/plain": [
       "array([        62,          0,  498263728,          0,          1,\n",
       "                0, 4294967295, 4294967295], dtype=uint32)"
      ]
     },
     "execution_count": 4,
     "metadata": {},
     "output_type": "execute_result"
    }
   ],
   "source": [
    "arr1 = np.array([1, 2, 3], dtype=np.float64)\n",
    "arr1.dtype\n",
    "\n",
    "empty_uint32 = np.empty(8, dtype='u4')\n",
    "empty_uint32"
   ]
  },
  {
   "cell_type": "markdown",
   "metadata": {},
   "source": [
    "## Numpy数组运算\n",
    "> 可进行矢量化和矩阵运算，也可进行元素运算（大小相等的数组之间的算术运算）\n",
    "- 1 数组与标量的算术运算会将标量值传播到各个元素（相同坐标的元素级别运算）\n",
    "- 2 大小相同的数组之间的比较会直接生成布尔数组（用来进行数据过滤，如果数据量不大 直接在pandas进行操作）"
   ]
  },
  {
   "cell_type": "code",
   "execution_count": 5,
   "metadata": {
    "ExecuteTime": {
     "end_time": "2019-02-28T10:08:03.684240Z",
     "start_time": "2019-02-28T10:08:03.410224Z"
    }
   },
   "outputs": [
    {
     "data": {
      "text/plain": [
       "array([[1., 2., 3.],\n",
       "       [4., 5., 6.]])"
      ]
     },
     "execution_count": 5,
     "metadata": {},
     "output_type": "execute_result"
    },
    {
     "data": {
      "text/plain": [
       "array([[ 1.,  4.,  9.],\n",
       "       [16., 25., 36.]])"
      ]
     },
     "execution_count": 5,
     "metadata": {},
     "output_type": "execute_result"
    },
    {
     "data": {
      "text/plain": [
       "array([[14., 32.],\n",
       "       [32., 77.]])"
      ]
     },
     "execution_count": 5,
     "metadata": {},
     "output_type": "execute_result"
    }
   ],
   "source": [
    "arr = np.array([[1., 2., 3.], [4., 5., 6.]])\n",
    "arr\n",
    "arr * arr # 数组元素运算  不是矩阵乘法\n",
    "arr.dot(arr.T) # 矩阵乘法 注意矩阵的秩"
   ]
  },
  {
   "cell_type": "markdown",
   "metadata": {},
   "source": [
    "## 基本的索引和操作\n",
    "> 将list的索引操作扩展为多维化（一般是二维）， 以,进行不同维度操作的分割    \n",
    "\n",
    "- 1、 切片的结果是视图（如果直接修改 会影响原始数据），需要赋值或者copy复制（切片对象独立化）\n",
    "- 2、 索引可以按照维度写成多个[], 也可以按照pandas形式写成嵌套，建议与pandas保持一致\n",
    "- 3、 省略未写的维度，代表该维度全部（主要针对3维以上的数据， 不常用）\n",
    "- 4、 切片索引 使用:进行不同维度的切片  arr2d[:2, 1:]\n",
    "- 5、 布尔类型索引：主要用于数据筛选（前提是长度匹配）\n",
    "- 6、 花式索引：利用整数数组进行索引（其实就是在不同的维度使用索引的list形式）\n",
    "- 7、 特殊属性：.T transpose(二维直接T， 三维需要根据轴编号进行)  .reshape .swapaxes  # 返回的是源数据的视图"
   ]
  },
  {
   "cell_type": "code",
   "execution_count": 6,
   "metadata": {
    "ExecuteTime": {
     "end_time": "2019-02-28T10:08:04.074262Z",
     "start_time": "2019-02-28T10:08:03.757244Z"
    }
   },
   "outputs": [
    {
     "data": {
      "text/plain": [
       "array([[1, 2, 3],\n",
       "       [4, 5, 6],\n",
       "       [7, 8, 9]])"
      ]
     },
     "execution_count": 6,
     "metadata": {},
     "output_type": "execute_result"
    },
    {
     "data": {
      "text/plain": [
       "(3, 3)"
      ]
     },
     "execution_count": 6,
     "metadata": {},
     "output_type": "execute_result"
    },
    {
     "data": {
      "text/plain": [
       "array([[ 1,  2, 10],\n",
       "       [ 4,  5, 10],\n",
       "       [ 7,  8,  9]])"
      ]
     },
     "execution_count": 6,
     "metadata": {},
     "output_type": "execute_result"
    },
    {
     "data": {
      "text/plain": [
       "array([10, 10])"
      ]
     },
     "execution_count": 6,
     "metadata": {},
     "output_type": "execute_result"
    },
    {
     "data": {
      "text/plain": [
       "array([[ 1,  2, 22],\n",
       "       [ 4,  5, 22],\n",
       "       [ 7,  8,  9]])"
      ]
     },
     "execution_count": 6,
     "metadata": {},
     "output_type": "execute_result"
    },
    {
     "data": {
      "text/plain": [
       "array([22, 22])"
      ]
     },
     "execution_count": 6,
     "metadata": {},
     "output_type": "execute_result"
    },
    {
     "data": {
      "text/plain": [
       "array([4, 5])"
      ]
     },
     "execution_count": 6,
     "metadata": {},
     "output_type": "execute_result"
    }
   ],
   "source": [
    "arr2d = np.array([[1, 2, 3], [4, 5, 6], [7, 8, 9]])\n",
    "arr2d\n",
    "arr2d.shape\n",
    "\n",
    "# 1 直接修改\n",
    "arr2d[[0,1],2] = [10,10]\n",
    "arr2d\n",
    "\n",
    "# 2 赋值 (不改变赋值数据)\n",
    "arr1 = arr2d[[0,1],2]\n",
    "arr2d[[0,1],2] = [22,22] # 修改切片数据 不会改变被赋值数据\n",
    "arr1\n",
    "\n",
    "# 3 复制（使用copy） 这种情况也不会改变被赋值数据\n",
    "arr2d\n",
    "arr1 = arr2d[[0,1],2].copy() # 其实 copy属于浅复制 与 直接赋值没区别；两者都不改变赋值数据，说明切片的对象是独立的\n",
    "arr2d[[0,1],2] = [33,33] \n",
    "arr1\n",
    "\n",
    "# 切片\n",
    "arr2d[1, :2]"
   ]
  },
  {
   "cell_type": "code",
   "execution_count": 7,
   "metadata": {
    "ExecuteTime": {
     "end_time": "2019-02-28T10:08:04.227271Z",
     "start_time": "2019-02-28T10:08:04.092263Z"
    }
   },
   "outputs": [
    {
     "data": {
      "text/plain": [
       "array([[-0.30527562, -1.13650137,  0.61745725, -0.36717088],\n",
       "       [ 0.51912358, -0.73367577, -1.12634784, -1.43263069],\n",
       "       [ 0.76619974, -0.60872158,  0.40181466,  1.49506771],\n",
       "       [ 0.70459626, -0.66915263,  0.18960664, -0.2220906 ],\n",
       "       [-1.04439526, -0.08156843, -0.95561304,  1.13485777],\n",
       "       [ 1.09852524, -0.30726495, -0.01656268,  0.80251054],\n",
       "       [ 2.59984995, -2.20074799, -1.15560655,  1.07580235]])"
      ]
     },
     "execution_count": 7,
     "metadata": {},
     "output_type": "execute_result"
    },
    {
     "data": {
      "text/plain": [
       "array([[-0.30527562, -1.13650137,  0.61745725, -0.36717088],\n",
       "       [ 0.70459626, -0.66915263,  0.18960664, -0.2220906 ]])"
      ]
     },
     "execution_count": 7,
     "metadata": {},
     "output_type": "execute_result"
    },
    {
     "data": {
      "text/plain": [
       "array([[ 0.51912358, -0.73367577, -1.12634784, -1.43263069],\n",
       "       [ 0.76619974, -0.60872158,  0.40181466,  1.49506771],\n",
       "       [-1.04439526, -0.08156843, -0.95561304,  1.13485777],\n",
       "       [ 1.09852524, -0.30726495, -0.01656268,  0.80251054],\n",
       "       [ 2.59984995, -2.20074799, -1.15560655,  1.07580235]])"
      ]
     },
     "execution_count": 7,
     "metadata": {},
     "output_type": "execute_result"
    },
    {
     "data": {
      "text/plain": [
       "array([[-0.30527562, -1.13650137,  0.61745725, -0.36717088],\n",
       "       [ 0.76619974, -0.60872158,  0.40181466,  1.49506771],\n",
       "       [ 0.70459626, -0.66915263,  0.18960664, -0.2220906 ],\n",
       "       [-1.04439526, -0.08156843, -0.95561304,  1.13485777]])"
      ]
     },
     "execution_count": 7,
     "metadata": {},
     "output_type": "execute_result"
    }
   ],
   "source": [
    "# 布尔索引 数据过滤\n",
    "names = np.array(['Bob', 'Joe', 'Will', 'Bob', 'Will','Joe', 'Joe'])\n",
    "data = np.random.randn(7, 4)\n",
    "data\n",
    "\n",
    "data[names == 'Bob']\n",
    "data[~(names == 'Bob')]  # 非\n",
    "data[(names == 'Bob') | (names == 'Will')] # 多条件"
   ]
  },
  {
   "cell_type": "markdown",
   "metadata": {},
   "source": [
    "## 通用函数：快速的元素级别数组函数\n",
    "> 注意 此处为元素级别的函数 数组中的每一个元素作为独立的个体参与运算 \n",
    "\n",
    "函数| 说明 \n",
    "--|--\n",
    "abs/fabs | 计算整数、浮点数或者复数的绝对值。对于非复数值，可以使用更快的fabs\n",
    "**sqrt** | 计算各元素的平方根 相当于arr\\*\\*0.5\n",
    "**square** | 计算各元素的平方\n",
    "exp| 计算各元素的指数$x^{2}$\n",
    "log/log10/log2/log1p | 分别为自然对数（底数为e）、底数为10的log、底数为2的log、log(1+x)\n",
    "**sign**| 计算各元素的正负号 1、0、-1\n",
    "ceil| 大于等于该值的最小整数\n",
    "floor| 小于等于该值的最大整数\n",
    "rint| 各元素四舍五入到最近的整数，保留dtype\n",
    "modf|将数字的小数和整数部分以两个独立的数组形式返回\n",
    "isnan| 空值判断\n",
    "cos/sin/tan/cosh…… | 三角函数\n",
    "arccos…… | 反三角函数\n",
    "logical_not | 计算各元素的not_x的真值\n",
    "**add** | 将数组中对应的元素相加\n",
    "**subtract**| 从第一个数组中减去第二个数组中的元素\n",
    "**multilply** | 数组元素相乘 与矩阵乘法不同\n",
    "**divide、floor_devide**| 除法 或 向下圆整除法 地板除（丢弃余数）\n",
    "**power**| 对第一个数组中元素A,根据第二个数组中对应的相应元素B，计算$A^{B}$  \n",
    "**maximum/fmax** | 元素级的最大值计算 fmax将忽略NaN\n",
    "**minimum/fmin** | 元素级的最小值计算 fmmin将忽略NaN\n",
    "mod| 求模\n",
    "unique(x) | 计算唯一元素，返回有序结果\n",
    "intersect1d（x,y）| 交集\n",
    "unionld（x,y）| 并集\n",
    "setdiff1d（x,y） | 差集 在x不在y\n",
    "setxorld(x,y) | 结合的对称差，交集的补集"
   ]
  },
  {
   "cell_type": "code",
   "execution_count": 8,
   "metadata": {
    "ExecuteTime": {
     "end_time": "2019-02-28T10:08:04.434283Z",
     "start_time": "2019-02-28T10:08:04.248272Z"
    }
   },
   "outputs": [
    {
     "data": {
      "text/plain": [
       "array([[ 0,  1,  2,  3],\n",
       "       [ 4,  5,  6,  7],\n",
       "       [ 8,  9, 10, 11],\n",
       "       [12, 13, 14, 15]])"
      ]
     },
     "execution_count": 8,
     "metadata": {},
     "output_type": "execute_result"
    },
    {
     "data": {
      "text/plain": [
       "array([[0.        , 1.        , 1.41421356, 1.73205081],\n",
       "       [2.        , 2.23606798, 2.44948974, 2.64575131],\n",
       "       [2.82842712, 3.        , 3.16227766, 3.31662479],\n",
       "       [3.46410162, 3.60555128, 3.74165739, 3.87298335]])"
      ]
     },
     "execution_count": 8,
     "metadata": {},
     "output_type": "execute_result"
    },
    {
     "data": {
      "text/plain": [
       "array([ 0.15389467,  1.51551293,  0.87973538, -0.03469721, -0.12927358,\n",
       "        2.62894544,  0.59722   , -0.34877617])"
      ]
     },
     "execution_count": 8,
     "metadata": {},
     "output_type": "execute_result"
    }
   ],
   "source": [
    "arr = np.arange(16).reshape(4,4)\n",
    "arr\n",
    "np.sqrt(arr) \n",
    "\n",
    "x = np.random.randn(8)\n",
    "y = np.random.randn(8)\n",
    "np.maximum(x, y)"
   ]
  },
  {
   "cell_type": "markdown",
   "metadata": {},
   "source": [
    "## 利用数组进行数据处理\n",
    "> 主要还是元素级别的处理"
   ]
  },
  {
   "cell_type": "code",
   "execution_count": 9,
   "metadata": {
    "ExecuteTime": {
     "end_time": "2019-02-28T10:08:08.658525Z",
     "start_time": "2019-02-28T10:08:04.475285Z"
    }
   },
   "outputs": [
    {
     "data": {
      "image/png": "[encoded data removed]",
      "text/plain": [
       "<Figure size 432x288 with 2 Axes>"
      ]
     },
     "metadata": {
      "image/png": {
       "height": 271,
       "width": 305
      },
      "needs_background": "light"
     },
     "output_type": "display_data"
    }
   ],
   "source": [
    "points = np.arange(-5, 5, 0.01)\n",
    "xs, ys = np.meshgrid(points, points)\n",
    "z = np.sqrt(xs ** 2 + ys ** 2)\n",
    "\n",
    "import matplotlib.pyplot as plt\n",
    "%matplotlib inline\n",
    "plt.imshow(z, cmap=plt.cm.gray)\n",
    "plt.colorbar()\n",
    "plt.title(\"Image plot of $\\sqrt{x^2 + y^2}$ for a grid of values\");"
   ]
  },
  {
   "cell_type": "markdown",
   "metadata": {},
   "source": [
    "## 将条件逻辑表述为数组运算\n",
    "> 主要使用的是np.where 函数 进行数据筛选\n"
   ]
  },
  {
   "cell_type": "code",
   "execution_count": 10,
   "metadata": {
    "ExecuteTime": {
     "end_time": "2019-02-28T10:08:08.730529Z",
     "start_time": "2019-02-28T10:08:08.672525Z"
    }
   },
   "outputs": [
    {
     "data": {
      "text/plain": [
       "array([[ 2,  2,  2,  2],\n",
       "       [ 2,  2,  2, -1],\n",
       "       [ 2, -1, -1, -1],\n",
       "       [ 2, -1, -1,  2]])"
      ]
     },
     "execution_count": 10,
     "metadata": {},
     "output_type": "execute_result"
    },
    {
     "data": {
      "text/plain": [
       "array([[ 2.        ,  2.        ,  2.        ,  2.        ],\n",
       "       [ 2.        ,  2.        ,  2.        , -0.04206131],\n",
       "       [ 2.        , -2.85549086, -0.69917122, -0.36743409],\n",
       "       [ 2.        , -0.71871477, -0.16173398,  2.        ]])"
      ]
     },
     "execution_count": 10,
     "metadata": {},
     "output_type": "execute_result"
    }
   ],
   "source": [
    "arr = np.random.randn(4, 4)\n",
    "np.where(arr > 0, 2, -1)\n",
    "np.where(arr > 0, 2, arr) # where的用法与if相似"
   ]
  },
  {
   "cell_type": "markdown",
   "metadata": {},
   "source": [
    "## 数学和统计方法\n",
    "> 注意axis参数的区别， 如果不显示的指定（None），计算的对象是整个数组  \n",
    "\n",
    "方法| 说明\n",
    "--|--\n",
    "sum| \n",
    "mean| \n",
    "std/var| 标准差和方差 自由度可调\n",
    "min/max | 与内置的二元函数不同 \n",
    "argmin/argmax| 分别为最大和最小元素的索引\n",
    "cumsum | 累积和\n",
    "cumprod | 累计积 \n",
    "\n",
    "### 用于布尔型数组的方法 \n",
    "- any():一个或者多个存在True，返回True \n",
    "- all():全部为True， 返回True \n",
    "\n",
    "### 排序 \n",
    "> 注意参数axis和key的使用；    \n",
    "\n",
    "顶级方法np.sort返回的是数组的已排序副本，而就地排序则会修改数组本身\n",
    "\n",
    "### 唯一化以及其他的集合逻辑\n",
    "- np.unique：找出数组中的唯一值并返回已排序、\n",
    "- np.inld  测试一个数组中的值在另一个数组中的成员资格，返回一个布尔型数组\n",
    "\n",
    "### 数据文件保存\n",
    "- load 和 save函数 针对二进制数据"
   ]
  },
  {
   "cell_type": "code",
   "execution_count": 11,
   "metadata": {
    "ExecuteTime": {
     "end_time": "2019-02-28T10:08:09.141552Z",
     "start_time": "2019-02-28T10:08:08.759530Z"
    }
   },
   "outputs": [
    {
     "data": {
      "text/plain": [
       "-0.16691240696104045"
      ]
     },
     "execution_count": 11,
     "metadata": {},
     "output_type": "execute_result"
    },
    {
     "data": {
      "text/plain": [
       "-0.16691240696104045"
      ]
     },
     "execution_count": 11,
     "metadata": {},
     "output_type": "execute_result"
    },
    {
     "data": {
      "text/plain": [
       "array([-0.32437689, -0.16175738, -0.62873303,  0.37490027, -0.094595  ])"
      ]
     },
     "execution_count": 11,
     "metadata": {},
     "output_type": "execute_result"
    },
    {
     "data": {
      "text/plain": [
       "array([ 0.01383782, -0.54895959, -0.37174786,  0.23922001])"
      ]
     },
     "execution_count": 11,
     "metadata": {},
     "output_type": "execute_result"
    },
    {
     "data": {
      "text/plain": [
       "array([ 1,  3,  6, 10, 15, 21, 28], dtype=int32)"
      ]
     },
     "execution_count": 11,
     "metadata": {},
     "output_type": "execute_result"
    },
    {
     "data": {
      "text/plain": [
       "array([   1,    2,    6,   24,  120,  720, 5040], dtype=int32)"
      ]
     },
     "execution_count": 11,
     "metadata": {},
     "output_type": "execute_result"
    },
    {
     "data": {
      "text/plain": [
       "array(['Bob', 'Joe', 'Will'], dtype='<U4')"
      ]
     },
     "execution_count": 11,
     "metadata": {},
     "output_type": "execute_result"
    },
    {
     "data": {
      "text/plain": [
       "array([ True, False, False,  True,  True, False,  True])"
      ]
     },
     "execution_count": 11,
     "metadata": {},
     "output_type": "execute_result"
    }
   ],
   "source": [
    "arr = np.random.randn(5, 4)\n",
    "arr.mean(); np.mean(arr) # 可作为从属和顶级方法使用\n",
    "\n",
    "\n",
    "arr.mean(axis=1) # 按行计算\n",
    "arr.mean(axis=0) # 按列计算\n",
    "\n",
    "arr = np.array([1, 2, 3, 4, 5, 6, 7])\n",
    "arr.cumsum() # 累积计算\n",
    "arr.cumprod()\n",
    "\n",
    "names = np.array(['Bob', 'Joe', 'Will', 'Bob', 'Will','Joe', 'Joe'])\n",
    "np.unique(names)\n",
    "\n",
    "values = np.array([6, 0, 0, 3, 2, 5, 6])\n",
    "np.in1d(values, [2, 3, 6])"
   ]
  },
  {
   "cell_type": "code",
   "execution_count": 12,
   "metadata": {
    "ExecuteTime": {
     "end_time": "2019-02-28T10:08:09.284560Z",
     "start_time": "2019-02-28T10:08:09.151553Z"
    }
   },
   "outputs": [
    {
     "data": {
      "text/plain": [
       "array([0, 1, 2, 3, 4, 5, 6, 7, 8, 9])"
      ]
     },
     "execution_count": 12,
     "metadata": {},
     "output_type": "execute_result"
    },
    {
     "data": {
      "text/plain": [
       "array([0, 1, 2, 3, 4, 5, 6, 7, 8, 9])"
      ]
     },
     "execution_count": 12,
     "metadata": {},
     "output_type": "execute_result"
    }
   ],
   "source": [
    "# 二进制文件保存\n",
    "arr = np.arange(10)\n",
    "np.save('some_array', arr) # 自动添加文件后缀名.npy\n",
    "np.load('some_array.npy')\n",
    "\n",
    "np.savez('array_archive.npz', a=arr, b=arr) # savez 函数 保存多个数组\n",
    "arch = np.load('array_archive.npz')\n",
    "arch['b']\n",
    "\n",
    "np.savez_compressed('arrays_compressed.npz', a=arr, b=arr)  # 数据压缩"
   ]
  },
  {
   "cell_type": "markdown",
   "metadata": {},
   "source": [
    "## 线性代数 \n",
    "> 该部分还是主要参考官网api， 有时间去回顾一下线性代数相关知识\n",
    "\n",
    "[官网文档](https://docs.scipy.org/doc/numpy/reference/routines.linalg.html) 每种方法下面均有示例（现代的相关文档见有道云笔记）   \n",
    "\n",
    "函数| 说明\n",
    "--|--\n",
    "diag| 以一维数组的形式返回方阵的对角线（或非对角线）的元素，或将一维数组转换为方阵（非对角线元素为0）\n",
    "dot| 矩阵乘法\n",
    "trace | 计算对角线元素的和\n",
    "det| 计算矩阵的行列式\n",
    "eig| 计算方阵的特征值和特征向量\n",
    "inv| 方阵求逆\n",
    "pinv| 矩阵伪逆\n",
    "qr|qr分解\n",
    "svd|svd分解\n",
    "solve|解线性方程组Ax=b，其中A是一个方阵\n",
    "lstsq|计算Ax=b的最小二乘\n"
   ]
  },
  {
   "cell_type": "code",
   "execution_count": 13,
   "metadata": {
    "ExecuteTime": {
     "end_time": "2019-02-28T10:08:09.499573Z",
     "start_time": "2019-02-28T10:08:09.297561Z"
    }
   },
   "outputs": [
    {
     "data": {
      "text/plain": [
       "(2, 3)"
      ]
     },
     "execution_count": 13,
     "metadata": {},
     "output_type": "execute_result"
    },
    {
     "data": {
      "text/plain": [
       "(3, 2)"
      ]
     },
     "execution_count": 13,
     "metadata": {},
     "output_type": "execute_result"
    },
    {
     "data": {
      "text/plain": [
       "array([[ 28.,  64.],\n",
       "       [ 67., 181.]])"
      ]
     },
     "execution_count": 13,
     "metadata": {},
     "output_type": "execute_result"
    },
    {
     "data": {
      "text/plain": [
       "array([[ 28.,  64.],\n",
       "       [ 67., 181.]])"
      ]
     },
     "execution_count": 13,
     "metadata": {},
     "output_type": "execute_result"
    },
    {
     "data": {
      "text/plain": [
       "array([ 6., 15.])"
      ]
     },
     "execution_count": 13,
     "metadata": {},
     "output_type": "execute_result"
    }
   ],
   "source": [
    "# 矩阵乘法\n",
    "x = np.array([[1., 2., 3.], [4., 5., 6.]])\n",
    "y = np.array([[6., 23.], [-1, 7], [8, 9]])\n",
    "x.shape; y.shape\n",
    "\n",
    "x.dot(y); np.dot(x,y)\n",
    "\n",
    "# @符（类似Python 3.5）也可以用作中缀运算符，进行矩阵乘法：\n",
    "x @ np.ones(3)"
   ]
  },
  {
   "cell_type": "code",
   "execution_count": 14,
   "metadata": {
    "ExecuteTime": {
     "end_time": "2019-02-28T10:08:09.782589Z",
     "start_time": "2019-02-28T10:08:09.527574Z"
    }
   },
   "outputs": [
    {
     "data": {
      "text/plain": [
       "array([[17.49605902,  3.49303653, -1.85153957, -4.05735289, -1.53704874],\n",
       "       [ 3.49303653,  2.37998888, -0.61766479, -0.64108775, -0.29677924],\n",
       "       [-1.85153957, -0.61766479,  0.45952866,  0.42838216,  0.08870008],\n",
       "       [-4.05735289, -0.64108775,  0.42838216,  1.03659719,  0.35879566],\n",
       "       [-1.53704874, -0.29677924,  0.08870008,  0.35879566,  0.23843327]])"
      ]
     },
     "execution_count": 14,
     "metadata": {},
     "output_type": "execute_result"
    },
    {
     "data": {
      "text/plain": [
       "array([[ 0.97780832, -0.38152536,  0.3544086 ,  3.07433953,  1.07038123],\n",
       "       [-0.38152536,  0.90417784,  1.03864637, -1.60259711,  0.69115775],\n",
       "       [ 0.3544086 ,  1.03864637,  5.93961312, -1.8752312 ,  4.18973672],\n",
       "       [ 3.07433953, -1.60259711, -1.8752312 , 13.29666463, -1.48746114],\n",
       "       [ 1.07038123,  0.69115775,  4.18973672, -1.48746114, 12.63420175]])"
      ]
     },
     "execution_count": 14,
     "metadata": {},
     "output_type": "execute_result"
    },
    {
     "data": {
      "text/plain": [
       "array([[ 1.00000000e+00, -2.22044605e-16,  1.38777878e-16,\n",
       "        -5.55111512e-17,  1.11022302e-16],\n",
       "       [ 6.66133815e-16,  1.00000000e+00,  3.46944695e-17,\n",
       "        -4.16333634e-16,  1.38777878e-16],\n",
       "       [ 8.88178420e-16,  4.44089210e-16,  1.00000000e+00,\n",
       "        -2.22044605e-16,  2.22044605e-16],\n",
       "       [ 3.55271368e-15,  7.77156117e-16, -3.05311332e-16,\n",
       "         1.00000000e+00,  5.55111512e-17],\n",
       "       [ 0.00000000e+00,  8.88178420e-16,  0.00000000e+00,\n",
       "        -1.77635684e-15,  1.00000000e+00]])"
      ]
     },
     "execution_count": 14,
     "metadata": {},
     "output_type": "execute_result"
    }
   ],
   "source": [
    "from numpy.linalg import inv, qr\n",
    "X = np.random.randn(5, 5)\n",
    "mat = X.T.dot(X) \n",
    "inv(mat) # 逆矩阵\n",
    "mat\n",
    "mat.dot(inv(mat)) # 产生对角矩阵"
   ]
  },
  {
   "cell_type": "markdown",
   "metadata": {},
   "source": [
    "## 伪随机数生成 \n",
    "> 主要是对numpy的random模块进行讲解，基于cpython实现且机制不同 效率较高\n",
    "\n",
    "函数|说明\n",
    "--|--\n",
    "**seed**|<font color=red size=3 face=“黑体”>确定随机数生成器的种子</font>\n",
    "permutation|返回一个序列的随机排列或返回一个随机排列的范围\n",
    "**shuffle**| 对一个序列就地随机排列\n",
    "**rand**| <table><tr><td bgcolor=orange> 产生均匀分布的样本值</td></tr></table>\n",
    "**randint** | 从给定的上下限范围内随机选取整数\n",
    "**randn** | 产生正态分布的样本值（均值为0，标准差为1）\n",
    "binomial| 产生二项分布的样本值\n",
    "normal| 产生正态(高斯)分布的样本值\n",
    "beta| 产生beta分布的样本值\n",
    "chisquare| 产生卡方分布的样本值\n",
    "gamma| 产生gamma分布的样本值\n",
    "uniform| 产生在(0,1)均匀分布的样本值"
   ]
  },
  {
   "cell_type": "code",
   "execution_count": 15,
   "metadata": {
    "ExecuteTime": {
     "end_time": "2019-02-28T10:09:00.473488Z",
     "start_time": "2019-02-28T10:08:09.807590Z"
    }
   },
   "outputs": [
    {
     "name": "stdout",
     "output_type": "stream",
     "text": [
      "4.59 s ± 661 ms per loop (mean ± std. dev. of 7 runs, 1 loop each)\n",
      "159 ms ± 10.6 ms per loop (mean ± std. dev. of 7 runs, 10 loops each)\n"
     ]
    }
   ],
   "source": [
    "from random import normalvariate\n",
    "N = 1000000\n",
    "\n",
    "%timeit samples = [normalvariate(0, 1) for _ in range(N)]\n",
    "%timeit np.random.normal(size=N)"
   ]
  },
  {
   "cell_type": "markdown",
   "metadata": {},
   "source": [
    "## 示例：随机漫步\n",
    "###  传统的纯python实现："
   ]
  },
  {
   "cell_type": "code",
   "execution_count": 16,
   "metadata": {
    "ExecuteTime": {
     "end_time": "2019-02-28T10:09:01.371540Z",
     "start_time": "2019-02-28T10:09:00.492489Z"
    }
   },
   "outputs": [
    {
     "data": {
      "image/png": "[encoded data removed]",
      "text/plain": [
       "<Figure size 432x288 with 1 Axes>"
      ]
     },
     "metadata": {
      "image/png": {
       "height": 250,
       "width": 370
      },
      "needs_background": "light"
     },
     "output_type": "display_data"
    }
   ],
   "source": [
    "import pandas as pd\n",
    "import numpy as np\n",
    "import matplotlib.pyplot as plt\n",
    "import random\n",
    "%matplotlib inline\n",
    "\n",
    "position = 0\n",
    "walk = [position]\n",
    "steps = 1000\n",
    "for i in range(steps):\n",
    "    step = 1 if random.randint(0,1) else -1  # 包含1 \n",
    "    position += step\n",
    "    walk.append(position)\n",
    "    \n",
    "ser1 = pd.Series(walk)\n",
    "ser1[:500].plot();"
   ]
  },
  {
   "cell_type": "markdown",
   "metadata": {},
   "source": [
    "### 使用numpy实现："
   ]
  },
  {
   "cell_type": "code",
   "execution_count": 17,
   "metadata": {
    "ExecuteTime": {
     "end_time": "2019-02-28T10:09:02.092581Z",
     "start_time": "2019-02-28T10:09:01.388541Z"
    }
   },
   "outputs": [
    {
     "data": {
      "image/png": "[encoded data removed]",
      "text/plain": [
       "<Figure size 432x288 with 1 Axes>"
      ]
     },
     "metadata": {
      "image/png": {
       "height": 250,
       "width": 370
      },
      "needs_background": "light"
     },
     "output_type": "display_data"
    }
   ],
   "source": [
    "nsteps = 1000\n",
    "draws = np.random.randint(0,2,size=nsteps) # 不含第二个范围参数2\n",
    "steps = np.where(draws>0,-1,1)\n",
    "walk = steps.cumsum()  # 巧妙使用累加\n",
    "pd.Series(walk).plot();"
   ]
  },
  {
   "cell_type": "markdown",
   "metadata": {},
   "source": [
    "### 一次模拟多个随机漫步"
   ]
  },
  {
   "cell_type": "code",
   "execution_count": 18,
   "metadata": {
    "ExecuteTime": {
     "end_time": "2019-02-28T10:09:03.384655Z",
     "start_time": "2019-02-28T10:09:02.122583Z"
    }
   },
   "outputs": [
    {
     "data": {
      "text/plain": [
       "129"
      ]
     },
     "execution_count": 18,
     "metadata": {},
     "output_type": "execute_result"
    },
    {
     "data": {
      "text/plain": [
       "-119"
      ]
     },
     "execution_count": 18,
     "metadata": {},
     "output_type": "execute_result"
    }
   ],
   "source": [
    "nwalks = 5000;nsteps = 1000\n",
    "draws = np.random.randint(0, 2, size=(nwalks, nsteps))\n",
    "# help(np.random.randint)\n",
    "\n",
    "steps = np.where(draws > 0, 1, -1)\n",
    "walks = steps.cumsum(1)\n",
    "\n",
    "walks.max();walks.min() # 最值\n",
    "\n",
    "hits30 = (np.abs(walks) >= 30).any(1) # 数据筛选\n",
    "\n",
    "crossing_times = (np.abs(walks[hits30]) >= 30).argmax(1)\n",
    "\n",
    "steps = np.random.normal(loc=0, scale=0.25,size=(nwalks, nsteps))"
   ]
  }
 ],
 "metadata": {
  "hide_input": false,
  "kernelspec": {
   "display_name": "python36",
   "language": "python",
   "name": "python36"
  },
  "language_info": {
   "codemirror_mode": {
    "name": "ipython",
    "version": 3
   },
   "file_extension": ".py",
   "mimetype": "text/x-python",
   "name": "python",
   "nbconvert_exporter": "python",
   "pygments_lexer": "ipython3",
   "version": "3.6.6"
  },
  "toc": {
   "nav_menu": {},
   "number_sections": true,
   "sideBar": true,
   "skip_h1_title": false,
   "title_cell": "Table of Contents",
   "title_sidebar": "Contents",
   "toc_cell": false,
   "toc_position": {},
   "toc_section_display": true,
   "toc_window_display": true
  },
  "varInspector": {
   "cols": {
    "lenName": 16,
    "lenType": 16,
    "lenVar": 40
   },
   "kernels_config": {
    "python": {
     "delete_cmd_postfix": "",
     "delete_cmd_prefix": "del ",
     "library": "var_list.py",
     "varRefreshCmd": "print(var_dic_list())"
    },
    "r": {
     "delete_cmd_postfix": ") ",
     "delete_cmd_prefix": "rm(",
     "library": "var_list.r",
     "varRefreshCmd": "cat(var_dic_list()) "
    }
   },
   "types_to_exclude": [
    "module",
    "function",
    "builtin_function_or_method",
    "instance",
    "_Feature"
   ],
   "window_display": false
  }
 },
 "nbformat": 4,
 "nbformat_minor": 2
}
