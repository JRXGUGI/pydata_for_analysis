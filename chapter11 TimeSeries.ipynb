{
 "cells": [
  {
   "cell_type": "markdown",
   "metadata": {
    "toc": true
   },
   "source": [
    "<h1>chapter11 TimeSeries<span class=\"tocSkip\"></span></h1>\n",
    "<div class=\"toc\"><ul class=\"toc-item\"><li><span><a href=\"#日期和时间数据类型及工具\" data-toc-modified-id=\"日期和时间数据类型及工具-1\"><span class=\"toc-item-num\">1&nbsp;&nbsp;</span>日期和时间数据类型及工具</a></span><ul class=\"toc-item\"><li><span><a href=\"#字符串和datetime相互转换\" data-toc-modified-id=\"字符串和datetime相互转换-1.1\"><span class=\"toc-item-num\">1.1&nbsp;&nbsp;</span>字符串和datetime相互转换</a></span></li></ul></li><li><span><a href=\"#时间序列基础\" data-toc-modified-id=\"时间序列基础-2\"><span class=\"toc-item-num\">2&nbsp;&nbsp;</span>时间序列基础</a></span><ul class=\"toc-item\"><li><span><a href=\"#索引、选取、子集构造\" data-toc-modified-id=\"索引、选取、子集构造-2.1\"><span class=\"toc-item-num\">2.1&nbsp;&nbsp;</span>索引、选取、子集构造</a></span></li><li><span><a href=\"#带有重复索引的时间序列\" data-toc-modified-id=\"带有重复索引的时间序列-2.2\"><span class=\"toc-item-num\">2.2&nbsp;&nbsp;</span>带有重复索引的时间序列</a></span></li></ul></li><li><span><a href=\"#日期的范围、频率以及移动\" data-toc-modified-id=\"日期的范围、频率以及移动-3\"><span class=\"toc-item-num\">3&nbsp;&nbsp;</span>日期的范围、频率以及移动</a></span><ul class=\"toc-item\"><li><span><a href=\"#生成日期范围\" data-toc-modified-id=\"生成日期范围-3.1\"><span class=\"toc-item-num\">3.1&nbsp;&nbsp;</span>生成日期范围</a></span></li><li><span><a href=\"#频率和日期偏移量\" data-toc-modified-id=\"频率和日期偏移量-3.2\"><span class=\"toc-item-num\">3.2&nbsp;&nbsp;</span>频率和日期偏移量</a></span><ul class=\"toc-item\"><li><span><a href=\"#WOM日期\" data-toc-modified-id=\"WOM日期-3.2.1\"><span class=\"toc-item-num\">3.2.1&nbsp;&nbsp;</span>WOM日期</a></span></li></ul></li><li><span><a href=\"#移动（超前和滞后）数据\" data-toc-modified-id=\"移动（超前和滞后）数据-3.3\"><span class=\"toc-item-num\">3.3&nbsp;&nbsp;</span>移动（超前和滞后）数据</a></span></li><li><span><a href=\"#通过偏移量对日期进行位移\" data-toc-modified-id=\"通过偏移量对日期进行位移-3.4\"><span class=\"toc-item-num\">3.4&nbsp;&nbsp;</span>通过偏移量对日期进行位移</a></span></li></ul></li><li><span><a href=\"#时区处理（非重点）\" data-toc-modified-id=\"时区处理（非重点）-4\"><span class=\"toc-item-num\">4&nbsp;&nbsp;</span>时区处理（非重点）</a></span><ul class=\"toc-item\"><li><span><a href=\"#时区本地化和转换\" data-toc-modified-id=\"时区本地化和转换-4.1\"><span class=\"toc-item-num\">4.1&nbsp;&nbsp;</span>时区本地化和转换</a></span></li><li><span><a href=\"#操作时区意识型Timestamp对象\" data-toc-modified-id=\"操作时区意识型Timestamp对象-4.2\"><span class=\"toc-item-num\">4.2&nbsp;&nbsp;</span>操作时区意识型Timestamp对象</a></span></li><li><span><a href=\"#不同时区之间的运算\" data-toc-modified-id=\"不同时区之间的运算-4.3\"><span class=\"toc-item-num\">4.3&nbsp;&nbsp;</span>不同时区之间的运算</a></span></li></ul></li><li><span><a href=\"#时期及其算术运算\" data-toc-modified-id=\"时期及其算术运算-5\"><span class=\"toc-item-num\">5&nbsp;&nbsp;</span>时期及其算术运算</a></span><ul class=\"toc-item\"><li><span><a href=\"#时期的频率和转换\" data-toc-modified-id=\"时期的频率和转换-5.1\"><span class=\"toc-item-num\">5.1&nbsp;&nbsp;</span>时期的频率和转换</a></span></li><li><span><a href=\"#按季度计算的时期频率\" data-toc-modified-id=\"按季度计算的时期频率-5.2\"><span class=\"toc-item-num\">5.2&nbsp;&nbsp;</span>按季度计算的时期频率</a></span></li><li><span><a href=\"#将Timestamp转换为Period（及其反向过程）\" data-toc-modified-id=\"将Timestamp转换为Period（及其反向过程）-5.3\"><span class=\"toc-item-num\">5.3&nbsp;&nbsp;</span>将Timestamp转换为Period（及其反向过程）</a></span></li><li><span><a href=\"#通过数组创建PeriodIndex\" data-toc-modified-id=\"通过数组创建PeriodIndex-5.4\"><span class=\"toc-item-num\">5.4&nbsp;&nbsp;</span>通过数组创建PeriodIndex</a></span></li></ul></li><li><span><a href=\"#重采样及频率转换\" data-toc-modified-id=\"重采样及频率转换-6\"><span class=\"toc-item-num\">6&nbsp;&nbsp;</span>重采样及频率转换</a></span><ul class=\"toc-item\"><li><span><a href=\"#降采样\" data-toc-modified-id=\"降采样-6.1\"><span class=\"toc-item-num\">6.1&nbsp;&nbsp;</span>降采样</a></span></li><li><span><a href=\"#通过时期进行重采样\" data-toc-modified-id=\"通过时期进行重采样-6.2\"><span class=\"toc-item-num\">6.2&nbsp;&nbsp;</span>通过时期进行重采样</a></span></li></ul></li><li><span><a href=\"#移动窗口函数（重点）\" data-toc-modified-id=\"移动窗口函数（重点）-7\"><span class=\"toc-item-num\">7&nbsp;&nbsp;</span>移动窗口函数（重点）</a></span><ul class=\"toc-item\"><li><span><a href=\"#指数加权函数\" data-toc-modified-id=\"指数加权函数-7.1\"><span class=\"toc-item-num\">7.1&nbsp;&nbsp;</span>指数加权函数</a></span></li><li><span><a href=\"#二元移动窗口函数\" data-toc-modified-id=\"二元移动窗口函数-7.2\"><span class=\"toc-item-num\">7.2&nbsp;&nbsp;</span>二元移动窗口函数</a></span></li><li><span><a href=\"#用户自定义移动窗口函数\" data-toc-modified-id=\"用户自定义移动窗口函数-7.3\"><span class=\"toc-item-num\">7.3&nbsp;&nbsp;</span>用户自定义移动窗口函数</a></span></li></ul></li></ul></div>"
   ]
  },
  {
   "cell_type": "code",
   "execution_count": 27,
   "metadata": {
    "ExecuteTime": {
     "end_time": "2019-03-08T10:37:52.801859Z",
     "start_time": "2019-03-08T10:37:52.789858Z"
    }
   },
   "outputs": [],
   "source": [
    "# -*- coding:utf-8 -*-\n",
    "\n",
    "import numpy as np\n",
    "import pandas as pd\n",
    "from datetime import datetime\n",
    "from datetime import timedelta\n",
    "\n",
    "pd.set_option('display.max_columns', None) # 显示所有列\n",
    "pd.set_option('display.max_rows', 10) # 设定df全部显示的行数\n",
    "\n",
    "# 一个cell做多个输出\n",
    "from IPython.core.interactiveshell import InteractiveShell\n",
    "InteractiveShell.ast_node_interactivity = \"all\" "
   ]
  },
  {
   "cell_type": "markdown",
   "metadata": {},
   "source": [
    "## 日期和时间数据类型及工具\n",
    "> 1、python标准库包含datetime、time、calendar模块，部分还会用到dateutil模块；这些模块的文档在有道云中有笔记，记得查看     \n",
    "> 2、书中主要使用的datetime模块，做时间格式解析的时候会用到dateutil模块，且涉及不深；主要用到的是pandas的时间数据类型和相关的属性、方法\n",
    "\n",
    "- 1. datetime以毫秒形式存储日期和时间\n",
    "- 2. datetime.timedelta 表示两个datetime对象之间的时间差 timedelta对象有两个参数，**第一个参数是两个时间相差的天数(这是主要参数)**，第二个参数是相差的秒数  二者加在一起才是两个时间的相差   \n",
    "- 3 给datetime对象加上或者减去一个或者多个timedelta，会产生一个新的对象（获取新日期）  \n",
    "\n",
    "datetime模块中的数据类型    \n",
    "\n",
    "类型| 说明\n",
    "--|--\n",
    "date| 日期\n",
    "time| 时间\n",
    "datetime| 日期和时间\n",
    "timedelta| datetime时间差\n"
   ]
  },
  {
   "cell_type": "code",
   "execution_count": 28,
   "metadata": {
    "ExecuteTime": {
     "end_time": "2019-03-08T10:37:52.876863Z",
     "start_time": "2019-03-08T10:37:52.814860Z"
    }
   },
   "outputs": [
    {
     "data": {
      "text/plain": [
       "datetime.datetime(2019, 3, 8, 18, 37, 52, 826861)"
      ]
     },
     "execution_count": 28,
     "metadata": {},
     "output_type": "execute_result"
    },
    {
     "data": {
      "text/plain": [
       "(2019, 3, 8)"
      ]
     },
     "execution_count": 28,
     "metadata": {},
     "output_type": "execute_result"
    },
    {
     "data": {
      "text/plain": [
       "(3098, 56700, 267723900.0)"
      ]
     },
     "execution_count": 28,
     "metadata": {},
     "output_type": "execute_result"
    }
   ],
   "source": [
    "# 日期的构造和获取\n",
    "from datetime import datetime\n",
    "now = datetime.now()\n",
    "now\n",
    "now.year, now.month,now.day\n",
    "delta = datetime(2017,11,8) - datetime(2009,5,15,8,15)\n",
    "delta.days, delta.seconds, delta.total_seconds()  # 最后一个返回的应该不是相差的总秒数"
   ]
  },
  {
   "cell_type": "code",
   "execution_count": 29,
   "metadata": {
    "ExecuteTime": {
     "end_time": "2019-03-08T10:37:53.034872Z",
     "start_time": "2019-03-08T10:37:52.893864Z"
    }
   },
   "outputs": [
    {
     "data": {
      "text/plain": [
       "datetime.datetime(2011, 1, 19, 0, 0)"
      ]
     },
     "execution_count": 29,
     "metadata": {},
     "output_type": "execute_result"
    },
    {
     "data": {
      "text/plain": [
       "datetime.datetime(2010, 12, 14, 0, 0)"
      ]
     },
     "execution_count": 29,
     "metadata": {},
     "output_type": "execute_result"
    }
   ],
   "source": [
    "# 日期的加减\n",
    "from datetime import timedelta\n",
    "start = datetime(2011, 1, 7)\n",
    "start + timedelta(12) #  默认单位为day\n",
    "\n",
    "start - 2 * timedelta(12)"
   ]
  },
  {
   "cell_type": "markdown",
   "metadata": {},
   "source": [
    "### 字符串和datetime相互转换  \n",
    "- 1 时间转换字符串：datetimeObject.strftime('dateformat')  strftime:str_from_time 或者str()   \n",
    "> 常用 %Y-%m-%d %H:%M:%S   \n",
    "\n",
    "- 2 字符串转换时间：strptime(datestr1, 'dateformat') #注意，此处dateformat必须与datestr1的格式相同\n",
    "\n",
    "- 3 strptime的格式必须每次都显示给出，可以使用dateutil.parser.parse进行常见日期格式的解析  \n",
    "\n",
    "- **4 pd.to_datetime会将标准日期格式的字符串解析成日期**  \n",
    "\n",
    "> pd.to_datetime函数可以解析日期、处理缺失值(NaT)等 要结合下面的说明和有道云相关笔记\n"
   ]
  },
  {
   "cell_type": "code",
   "execution_count": 30,
   "metadata": {
    "ExecuteTime": {
     "end_time": "2019-03-08T10:37:53.214883Z",
     "start_time": "2019-03-08T10:37:53.057874Z"
    }
   },
   "outputs": [
    {
     "data": {
      "text/plain": [
       "('2011-12-10 08:34:26', '2011-12-10 08:34:26')"
      ]
     },
     "execution_count": 30,
     "metadata": {},
     "output_type": "execute_result"
    },
    {
     "data": {
      "text/plain": [
       "[datetime.datetime(2015, 7, 6, 0, 0), datetime.datetime(2014, 8, 7, 0, 0)]"
      ]
     },
     "execution_count": 30,
     "metadata": {},
     "output_type": "execute_result"
    },
    {
     "data": {
      "text/plain": [
       "datetime.datetime(2017, 11, 13, 0, 0)"
      ]
     },
     "execution_count": 30,
     "metadata": {},
     "output_type": "execute_result"
    },
    {
     "data": {
      "text/plain": [
       "datetime.datetime(2015, 2, 25, 0, 0)"
      ]
     },
     "execution_count": 30,
     "metadata": {},
     "output_type": "execute_result"
    },
    {
     "data": {
      "text/plain": [
       "DatetimeIndex(['2011-07-06 12:00:00', '2011-08-06 00:00:00'], dtype='datetime64[ns]', freq=None)"
      ]
     },
     "execution_count": 30,
     "metadata": {},
     "output_type": "execute_result"
    },
    {
     "data": {
      "text/plain": [
       "DatetimeIndex(['2011-07-06 12:00:00', '2011-08-06 00:00:00', 'NaT'], dtype='datetime64[ns]', freq=None)"
      ]
     },
     "execution_count": 30,
     "metadata": {},
     "output_type": "execute_result"
    }
   ],
   "source": [
    "# time to str\n",
    "stamp = datetime(2011,12,10,8,34,26)\n",
    "str(stamp), stamp.strftime('%Y-%m-%d %H:%M:%S')  \n",
    "\n",
    "# str to time\n",
    "datestrs = ['7/6/2015','8/7/2014']\n",
    "[datetime.strptime(x, '%m/%d/%Y') for x in datestrs]  \n",
    "\n",
    "# use dateutil parse\n",
    "from dateutil.parser import parse\n",
    "parse('2017-11-13')\n",
    "# 书中介绍的dayfirst并不唯一，只有一些需要明确指出日期在前的时间数据才会用到该参数\n",
    "parse('2/25/2015',dayfirst=True)  \n",
    "\n",
    "# pandas to_datetime\n",
    "datestrs = ['2011-07-06 12:00:00', '2011-08-06 00:00:00']\n",
    "pd.to_datetime(datestrs) # 生成了时间格式的索引\n",
    "pd.to_datetime(datestrs + [None])  # 会产生日期空值NaT"
   ]
  },
  {
   "cell_type": "markdown",
   "metadata": {},
   "source": [
    "## 时间序列基础 \n",
    "> 1、pandas 最基本的时间序列类型就是以时间戳(**该时间戳与传统意义上的时间戳不同，因为pandas有推断数据类型的功能，所以该时间戳可以是时间类型的字符串或者datetime对象**)为索引的Series         \n",
    "\n",
    "> 2、以时间格式字符串做索引 与 以时间对象做索引还是有些不同的；还是建议**使用时间对象做索引**"
   ]
  },
  {
   "cell_type": "code",
   "execution_count": 31,
   "metadata": {
    "ExecuteTime": {
     "end_time": "2019-03-08T10:37:53.722912Z",
     "start_time": "2019-03-08T10:37:53.225883Z"
    }
   },
   "outputs": [
    {
     "data": {
      "text/plain": [
       "2011-01-02   -0.133332\n",
       "2011-01-05   -0.985909\n",
       "2011-01-07    0.191914\n",
       "2011-01-08   -0.974143\n",
       "2011-01-10   -1.901927\n",
       "2011-01-12    0.372566\n",
       "dtype: float64"
      ]
     },
     "execution_count": 31,
     "metadata": {},
     "output_type": "execute_result"
    },
    {
     "data": {
      "text/plain": [
       "DatetimeIndex(['2011-01-02', '2011-01-05', '2011-01-07', '2011-01-08',\n",
       "               '2011-01-10', '2011-01-12'],\n",
       "              dtype='datetime64[ns]', freq=None)"
      ]
     },
     "execution_count": 31,
     "metadata": {},
     "output_type": "execute_result"
    },
    {
     "data": {
      "text/plain": [
       "dtype('<M8[ns]')"
      ]
     },
     "execution_count": 31,
     "metadata": {},
     "output_type": "execute_result"
    },
    {
     "data": {
      "text/plain": [
       "2011-01-02   -0.266663\n",
       "2011-01-05         NaN\n",
       "2011-01-07    0.383828\n",
       "2011-01-08         NaN\n",
       "2011-01-10   -3.803854\n",
       "2011-01-12         NaN\n",
       "dtype: float64"
      ]
     },
     "execution_count": 31,
     "metadata": {},
     "output_type": "execute_result"
    }
   ],
   "source": [
    "# 使用datetime的对象做索引\n",
    "dates = [datetime(2011, 1, 2), datetime(2011, 1, 5),\n",
    "      datetime(2011, 1, 7), datetime(2011, 1, 8),\n",
    "      datetime(2011, 1, 10), datetime(2011, 1, 12)]\n",
    "ts = pd.Series(np.random.randn(6), index=dates)\n",
    "ts\n",
    "ts.index\n",
    "ts.index.dtype # 索引数据类型\n",
    "\n",
    "ts + ts[::2]  # 不同索引的时间序列之间的算术运算会自动按日期对齐 (算术运算需索引对齐)"
   ]
  },
  {
   "cell_type": "markdown",
   "metadata": {},
   "source": [
    "### 索引、选取、子集构造\n",
    "以时间对象为索引，基本的使用方法与其他索引对象一致；但还有一些特殊的使用方法     \n",
    "\n",
    "- 1、使用日期字符串做检索条件 日期字符串不限定长度和格式（不过最好与原始数据保持一致） \n",
    "- 2、可以传入日期字符串的一部分做数据切片；如传入年份或者年月 eg:ts['2011'] \n",
    "- 3、可以用不存在索引的时间对象进行数据切片（范围查询） ts['2011-10-11':'2014-10-11']  或者使用ts.truncate函数  \n",
    "> 范围查询的前提是时间索引有序（一般是按照时间先后排列）  \n",
    "- 4、使用pd.date_range函数创建时间序列，该函数对象可作为df的时间索引"
   ]
  },
  {
   "cell_type": "code",
   "execution_count": 32,
   "metadata": {
    "ExecuteTime": {
     "end_time": "2019-03-08T10:37:53.863920Z",
     "start_time": "2019-03-08T10:37:53.741913Z"
    }
   },
   "outputs": [
    {
     "data": {
      "text/html": [
       "<div>\n",
       "<style scoped>\n",
       "    .dataframe tbody tr th:only-of-type {\n",
       "        vertical-align: middle;\n",
       "    }\n",
       "\n",
       "    .dataframe tbody tr th {\n",
       "        vertical-align: top;\n",
       "    }\n",
       "\n",
       "    .dataframe thead th {\n",
       "        text-align: right;\n",
       "    }\n",
       "</style>\n",
       "<table border=\"1\" class=\"dataframe\">\n",
       "  <thead>\n",
       "    <tr style=\"text-align: right;\">\n",
       "      <th></th>\n",
       "      <th>A</th>\n",
       "      <th>B</th>\n",
       "      <th>C</th>\n",
       "      <th>D</th>\n",
       "    </tr>\n",
       "  </thead>\n",
       "  <tbody>\n",
       "    <tr>\n",
       "      <th>2000-05-03</th>\n",
       "      <td>1.186253</td>\n",
       "      <td>-0.146346</td>\n",
       "      <td>1.316829</td>\n",
       "      <td>-0.144770</td>\n",
       "    </tr>\n",
       "    <tr>\n",
       "      <th>2000-05-10</th>\n",
       "      <td>-1.516637</td>\n",
       "      <td>-0.459405</td>\n",
       "      <td>0.011844</td>\n",
       "      <td>1.029556</td>\n",
       "    </tr>\n",
       "    <tr>\n",
       "      <th>2000-05-17</th>\n",
       "      <td>0.745782</td>\n",
       "      <td>-0.767042</td>\n",
       "      <td>0.010006</td>\n",
       "      <td>0.559103</td>\n",
       "    </tr>\n",
       "    <tr>\n",
       "      <th>2000-05-24</th>\n",
       "      <td>2.459704</td>\n",
       "      <td>-1.077533</td>\n",
       "      <td>-1.937351</td>\n",
       "      <td>-0.759125</td>\n",
       "    </tr>\n",
       "    <tr>\n",
       "      <th>2000-05-31</th>\n",
       "      <td>0.772400</td>\n",
       "      <td>0.416908</td>\n",
       "      <td>-0.352375</td>\n",
       "      <td>0.113418</td>\n",
       "    </tr>\n",
       "  </tbody>\n",
       "</table>\n",
       "</div>"
      ],
      "text/plain": [
       "                   A         B         C         D\n",
       "2000-05-03  1.186253 -0.146346  1.316829 -0.144770\n",
       "2000-05-10 -1.516637 -0.459405  0.011844  1.029556\n",
       "2000-05-17  0.745782 -0.767042  0.010006  0.559103\n",
       "2000-05-24  2.459704 -1.077533 -1.937351 -0.759125\n",
       "2000-05-31  0.772400  0.416908 -0.352375  0.113418"
      ]
     },
     "execution_count": 32,
     "metadata": {},
     "output_type": "execute_result"
    },
    {
     "data": {
      "text/html": [
       "<div>\n",
       "<style scoped>\n",
       "    .dataframe tbody tr th:only-of-type {\n",
       "        vertical-align: middle;\n",
       "    }\n",
       "\n",
       "    .dataframe tbody tr th {\n",
       "        vertical-align: top;\n",
       "    }\n",
       "\n",
       "    .dataframe thead th {\n",
       "        text-align: right;\n",
       "    }\n",
       "</style>\n",
       "<table border=\"1\" class=\"dataframe\">\n",
       "  <thead>\n",
       "    <tr style=\"text-align: right;\">\n",
       "      <th></th>\n",
       "      <th>A</th>\n",
       "      <th>B</th>\n",
       "      <th>C</th>\n",
       "      <th>D</th>\n",
       "    </tr>\n",
       "  </thead>\n",
       "  <tbody>\n",
       "    <tr>\n",
       "      <th>2001-11-07</th>\n",
       "      <td>-0.019696</td>\n",
       "      <td>-3.103738</td>\n",
       "      <td>0.934255</td>\n",
       "      <td>-0.219905</td>\n",
       "    </tr>\n",
       "    <tr>\n",
       "      <th>2001-11-14</th>\n",
       "      <td>0.053392</td>\n",
       "      <td>0.777197</td>\n",
       "      <td>-0.174707</td>\n",
       "      <td>0.048411</td>\n",
       "    </tr>\n",
       "    <tr>\n",
       "      <th>2001-11-21</th>\n",
       "      <td>-0.373415</td>\n",
       "      <td>0.631206</td>\n",
       "      <td>-0.445260</td>\n",
       "      <td>-0.650670</td>\n",
       "    </tr>\n",
       "    <tr>\n",
       "      <th>2001-11-28</th>\n",
       "      <td>0.722817</td>\n",
       "      <td>-1.476694</td>\n",
       "      <td>0.857036</td>\n",
       "      <td>0.507898</td>\n",
       "    </tr>\n",
       "  </tbody>\n",
       "</table>\n",
       "</div>"
      ],
      "text/plain": [
       "                   A         B         C         D\n",
       "2001-11-07 -0.019696 -3.103738  0.934255 -0.219905\n",
       "2001-11-14  0.053392  0.777197 -0.174707  0.048411\n",
       "2001-11-21 -0.373415  0.631206 -0.445260 -0.650670\n",
       "2001-11-28  0.722817 -1.476694  0.857036  0.507898"
      ]
     },
     "execution_count": 32,
     "metadata": {},
     "output_type": "execute_result"
    }
   ],
   "source": [
    "dates = pd.date_range('1/1/2000', periods=100, freq='W-WED')# 构建有序且指定间隔的时间索引 freq 时间间隔 默认是天\n",
    "log_df = pd.DataFrame(np.random.randn(100,4),\n",
    "                     index = dates,\n",
    "                     columns = list('ABCD')\n",
    "                     )\n",
    "log_df['2000-05'] # 使用时间的一部分做数据切片  --第2点\n",
    "log_df[datetime(2001, 11, 7):] # datetime对象也可以进行切片 起点和终点可以不是时间索引内的具体内容 包含即可 -- 第3点"
   ]
  },
  {
   "cell_type": "markdown",
   "metadata": {},
   "source": [
    "### 带有重复索引的时间序列 \n",
    "多个观测数据落在同一个时间点上，在聚合时 **dup_ts.groupby(level=0)**,不必指定聚合列\n",
    "> 与普通有重复索引用法一致  groupby(level=0)  *未命名索引在groupby中以level=0，1，2等标示*"
   ]
  },
  {
   "cell_type": "code",
   "execution_count": 33,
   "metadata": {
    "ExecuteTime": {
     "end_time": "2019-03-08T10:37:54.010928Z",
     "start_time": "2019-03-08T10:37:53.875921Z"
    }
   },
   "outputs": [
    {
     "data": {
      "text/plain": [
       "2000-01-01    0\n",
       "2000-01-02    1\n",
       "2000-01-02    2\n",
       "2000-01-02    3\n",
       "2000-01-03    4\n",
       "dtype: int32"
      ]
     },
     "execution_count": 33,
     "metadata": {},
     "output_type": "execute_result"
    },
    {
     "data": {
      "text/plain": [
       "False"
      ]
     },
     "execution_count": 33,
     "metadata": {},
     "output_type": "execute_result"
    },
    {
     "data": {
      "text/plain": [
       "2000-01-01    0\n",
       "2000-01-02    2\n",
       "2000-01-03    4\n",
       "dtype: int32"
      ]
     },
     "execution_count": 33,
     "metadata": {},
     "output_type": "execute_result"
    }
   ],
   "source": [
    "dates = pd.DatetimeIndex(['1/1/2000', '1/2/2000','1/2/2000','1/2/2000', '1/3/2000'])\n",
    "dup_ts = pd.Series(np.arange(5), index=dates)\n",
    "dup_ts\n",
    "\n",
    "dup_ts.index.is_unique  # 索引不是唯一的\n",
    "\n",
    "grouped = dup_ts.groupby(level=0)\n",
    "grouped.mean()"
   ]
  },
  {
   "cell_type": "markdown",
   "metadata": {},
   "source": [
    "## 日期的范围、频率以及移动\n",
    "主要是resample函数的应用，调用的结果是产生一个具有固定频率的时间序列\n",
    "\n",
    "> 如果不涉及到较小范围的频率，订单数据基本不用做日期数据频率补全等操作；*该部分还是很重要，多查询文档和实验验证*    \n",
    "- 日期的频率就是将日期按照固定间隔进行补全（前提是原始数据日期无规律等）"
   ]
  },
  {
   "cell_type": "code",
   "execution_count": 34,
   "metadata": {
    "ExecuteTime": {
     "end_time": "2019-03-08T10:37:54.204939Z",
     "start_time": "2019-03-08T10:37:54.022929Z"
    }
   },
   "outputs": [
    {
     "data": {
      "text/plain": [
       "2011-01-02   -0.133332\n",
       "2011-01-05   -0.985909\n",
       "2011-01-07    0.191914\n",
       "2011-01-08   -0.974143\n",
       "2011-01-10   -1.901927\n",
       "2011-01-12    0.372566\n",
       "dtype: float64"
      ]
     },
     "execution_count": 34,
     "metadata": {},
     "output_type": "execute_result"
    },
    {
     "data": {
      "text/plain": [
       "DatetimeIndexResampler [freq=<Day>, axis=0, closed=left, label=left, convention=start, base=0]"
      ]
     },
     "execution_count": 34,
     "metadata": {},
     "output_type": "execute_result"
    }
   ],
   "source": [
    "ts\n",
    "resampler = ts.resample('D') # 转换频率为每天\n",
    "resampler"
   ]
  },
  {
   "cell_type": "markdown",
   "metadata": {},
   "source": [
    "### 生成日期范围\n",
    "使用pd.date_range 可用于根据指定的频率生成指定长度的DatetimeIndex\n",
    "\n",
    "```python\n",
    "date_range(start=None, end=None, periods=None, freq='D', tz=None, normalize=False, name=None, closed=None, **kwargs)\n",
    "``` \n",
    "- 1 包含起始时间和结束时间；如果只有起始时间，必须传入periods参数，指定索引长度；\n",
    "- 2 freq 日期间隔，默认为Day；还可以是'BM','W-WED'等\n",
    "- 3 normalize=True 规范化时间戳到午夜时间（eg:2015-11-12 00:00:00）"
   ]
  },
  {
   "cell_type": "code",
   "execution_count": 35,
   "metadata": {
    "ExecuteTime": {
     "end_time": "2019-03-08T10:37:54.392950Z",
     "start_time": "2019-03-08T10:37:54.271943Z"
    }
   },
   "outputs": [
    {
     "data": {
      "text/plain": [
       "DatetimeIndex(['2012-04-01', '2012-04-02', '2012-04-03', '2012-04-04',\n",
       "               '2012-04-05', '2012-04-06', '2012-04-07', '2012-04-08',\n",
       "               '2012-04-09', '2012-04-10', '2012-04-11', '2012-04-12',\n",
       "               '2012-04-13', '2012-04-14', '2012-04-15', '2012-04-16',\n",
       "               '2012-04-17', '2012-04-18', '2012-04-19', '2012-04-20',\n",
       "               '2012-04-21', '2012-04-22', '2012-04-23', '2012-04-24',\n",
       "               '2012-04-25', '2012-04-26', '2012-04-27', '2012-04-28',\n",
       "               '2012-04-29', '2012-04-30', '2012-05-01', '2012-05-02',\n",
       "               '2012-05-03', '2012-05-04', '2012-05-05', '2012-05-06',\n",
       "               '2012-05-07', '2012-05-08', '2012-05-09', '2012-05-10',\n",
       "               '2012-05-11', '2012-05-12', '2012-05-13', '2012-05-14',\n",
       "               '2012-05-15', '2012-05-16', '2012-05-17', '2012-05-18',\n",
       "               '2012-05-19', '2012-05-20', '2012-05-21', '2012-05-22',\n",
       "               '2012-05-23', '2012-05-24', '2012-05-25', '2012-05-26',\n",
       "               '2012-05-27', '2012-05-28', '2012-05-29', '2012-05-30',\n",
       "               '2012-05-31', '2012-06-01'],\n",
       "              dtype='datetime64[ns]', freq='D')"
      ]
     },
     "execution_count": 35,
     "metadata": {},
     "output_type": "execute_result"
    },
    {
     "data": {
      "text/plain": [
       "DatetimeIndex(['2012-04-01', '2012-04-02', '2012-04-03', '2012-04-04',\n",
       "               '2012-04-05', '2012-04-06', '2012-04-07', '2012-04-08',\n",
       "               '2012-04-09', '2012-04-10', '2012-04-11', '2012-04-12',\n",
       "               '2012-04-13', '2012-04-14', '2012-04-15', '2012-04-16',\n",
       "               '2012-04-17', '2012-04-18', '2012-04-19', '2012-04-20'],\n",
       "              dtype='datetime64[ns]', freq='D')"
      ]
     },
     "execution_count": 35,
     "metadata": {},
     "output_type": "execute_result"
    },
    {
     "data": {
      "text/plain": [
       "DatetimeIndex(['2012-05-13', '2012-05-14', '2012-05-15', '2012-05-16',\n",
       "               '2012-05-17', '2012-05-18', '2012-05-19', '2012-05-20',\n",
       "               '2012-05-21', '2012-05-22', '2012-05-23', '2012-05-24',\n",
       "               '2012-05-25', '2012-05-26', '2012-05-27', '2012-05-28',\n",
       "               '2012-05-29', '2012-05-30', '2012-05-31', '2012-06-01'],\n",
       "              dtype='datetime64[ns]', freq='D')"
      ]
     },
     "execution_count": 35,
     "metadata": {},
     "output_type": "execute_result"
    }
   ],
   "source": [
    "index = pd.date_range('2012-04-01', '2012-06-01')\n",
    "index\n",
    "\n",
    "pd.date_range(start='2012-04-01', periods=20)\n",
    "pd.date_range(end='2012-06-01', periods=20)"
   ]
  },
  {
   "cell_type": "markdown",
   "metadata": {},
   "source": [
    "### 频率和日期偏移量 \n",
    "> pandas 中的频率是有一个基础频率和一个乘数组成；对于每个基础频率，都有一个被称为日期偏移量的对象与之对应   \n",
    "> **主要在pd.date_range的freq参数中应用，可以灵活的创建时间索引**\n",
    "\n",
    "- 一般使用'H'/'4H'字符串别名代替即可 eg:pd.date_range('20171101','20171120', freq='4H') # 可以直接使用字符串别名代替\n",
    "- 大部分的偏移量可是使用加法进行计算 eg:Hour(4)+Minute(30) 同时可使用频率字符串代替：freq='1h30min' \n",
    "\n",
    "#### WOM日期 \n",
    "更容易的获取一些常见的频率\n",
    "- WOM日期：以WOM开头，eg：方便获取每月的第3个周五 'WOM-3FRI'\n",
    "- W-MON/W-TUE 每周的周几\n"
   ]
  },
  {
   "cell_type": "code",
   "execution_count": 36,
   "metadata": {
    "ExecuteTime": {
     "end_time": "2019-03-08T10:37:54.534958Z",
     "start_time": "2019-03-08T10:37:54.454954Z"
    }
   },
   "outputs": [
    {
     "data": {
      "text/plain": [
       "<Hour>"
      ]
     },
     "execution_count": 36,
     "metadata": {},
     "output_type": "execute_result"
    },
    {
     "data": {
      "text/plain": [
       "<4 * Hours>"
      ]
     },
     "execution_count": 36,
     "metadata": {},
     "output_type": "execute_result"
    },
    {
     "data": {
      "text/plain": [
       "DatetimeIndex(['2000-01-01 00:00:00', '2000-01-01 04:00:00',\n",
       "               '2000-01-01 08:00:00', '2000-01-01 12:00:00',\n",
       "               '2000-01-01 16:00:00', '2000-01-01 20:00:00',\n",
       "               '2000-01-02 00:00:00', '2000-01-02 04:00:00',\n",
       "               '2000-01-02 08:00:00', '2000-01-02 12:00:00',\n",
       "               '2000-01-02 16:00:00', '2000-01-02 20:00:00'],\n",
       "              dtype='datetime64[ns]', freq='4H')"
      ]
     },
     "execution_count": 36,
     "metadata": {},
     "output_type": "execute_result"
    },
    {
     "data": {
      "text/plain": [
       "<150 * Minutes>"
      ]
     },
     "execution_count": 36,
     "metadata": {},
     "output_type": "execute_result"
    },
    {
     "data": {
      "text/plain": [
       "DatetimeIndex(['2000-01-01 00:00:00', '2000-01-01 01:30:00',\n",
       "               '2000-01-01 03:00:00', '2000-01-01 04:30:00',\n",
       "               '2000-01-01 06:00:00', '2000-01-01 07:30:00',\n",
       "               '2000-01-01 09:00:00', '2000-01-01 10:30:00',\n",
       "               '2000-01-01 12:00:00', '2000-01-01 13:30:00'],\n",
       "              dtype='datetime64[ns]', freq='90T')"
      ]
     },
     "execution_count": 36,
     "metadata": {},
     "output_type": "execute_result"
    }
   ],
   "source": [
    "from pandas.tseries.offsets import Hour, Minute\n",
    "hour = Hour()\n",
    "hour\n",
    "\n",
    "four_hours = Hour(4)\n",
    "four_hours\n",
    "\n",
    "pd.date_range('2000-01-01', '2000-01-02 23:59', freq='4h') # 可以灵活的创建时间索引 \n",
    "\n",
    "# 偏移量可以通过加法连接\n",
    "Hour(2) + Minute(30)\n",
    "pd.date_range('2000-01-01', periods=10, freq='1h30min')"
   ]
  },
  {
   "cell_type": "code",
   "execution_count": 37,
   "metadata": {
    "ExecuteTime": {
     "end_time": "2019-03-08T10:37:54.583961Z",
     "start_time": "2019-03-08T10:37:54.545959Z"
    }
   },
   "outputs": [
    {
     "data": {
      "text/plain": [
       "DatetimeIndex(['2012-01-20', '2012-02-17', '2012-03-16', '2012-04-20',\n",
       "               '2012-05-18', '2012-06-15', '2012-07-20', '2012-08-17'],\n",
       "              dtype='datetime64[ns]', freq='WOM-3FRI')"
      ]
     },
     "execution_count": 37,
     "metadata": {},
     "output_type": "execute_result"
    }
   ],
   "source": [
    "rng = pd.date_range('2012-01-01', '2012-09-01', freq='WOM-3FRI')\n",
    "rng"
   ]
  },
  {
   "cell_type": "markdown",
   "metadata": {},
   "source": [
    "### 移动（超前和滞后）数据\n",
    "shift 时间窗口函数，做时间序列预测时会使用到\n",
    "- series和df均有shift函数，单纯的执行迁移和后移操作，保持索引不变 , 数据已经上下移动   \n",
    "- **可以在shift函数中添加参数freq实现时间戳位移而非数据位移（该功能使用场景更多）**"
   ]
  },
  {
   "cell_type": "code",
   "execution_count": 38,
   "metadata": {
    "ExecuteTime": {
     "end_time": "2019-03-08T10:37:54.830975Z",
     "start_time": "2019-03-08T10:37:54.599962Z"
    }
   },
   "outputs": [
    {
     "data": {
      "text/plain": [
       "2000-01-31    0.354032\n",
       "2000-02-29   -0.796264\n",
       "2000-03-31    0.681130\n",
       "2000-04-30   -0.014282\n",
       "Freq: M, dtype: float64"
      ]
     },
     "execution_count": 38,
     "metadata": {},
     "output_type": "execute_result"
    },
    {
     "data": {
      "text/plain": [
       "2000-01-31         NaN\n",
       "2000-02-29         NaN\n",
       "2000-03-31    0.354032\n",
       "2000-04-30   -0.796264\n",
       "Freq: M, dtype: float64"
      ]
     },
     "execution_count": 38,
     "metadata": {},
     "output_type": "execute_result"
    },
    {
     "data": {
      "text/plain": [
       "2000-01-31    0.681130\n",
       "2000-02-29   -0.014282\n",
       "2000-03-31         NaN\n",
       "2000-04-30         NaN\n",
       "Freq: M, dtype: float64"
      ]
     },
     "execution_count": 38,
     "metadata": {},
     "output_type": "execute_result"
    },
    {
     "data": {
      "text/plain": [
       "2000-01-31         NaN\n",
       "2000-02-29   -3.249133\n",
       "2000-03-31   -1.855407\n",
       "2000-04-30   -1.020968\n",
       "Freq: M, dtype: float64"
      ]
     },
     "execution_count": 38,
     "metadata": {},
     "output_type": "execute_result"
    },
    {
     "data": {
      "text/plain": [
       "2000-03-31    0.354032\n",
       "2000-04-30   -0.796264\n",
       "2000-05-31    0.681130\n",
       "2000-06-30   -0.014282\n",
       "Freq: M, dtype: float64"
      ]
     },
     "execution_count": 38,
     "metadata": {},
     "output_type": "execute_result"
    },
    {
     "data": {
      "text/plain": [
       "2000-01-31 01:30:00    0.354032\n",
       "2000-02-29 01:30:00   -0.796264\n",
       "2000-03-31 01:30:00    0.681130\n",
       "2000-04-30 01:30:00   -0.014282\n",
       "Freq: M, dtype: float64"
      ]
     },
     "execution_count": 38,
     "metadata": {},
     "output_type": "execute_result"
    }
   ],
   "source": [
    "ts = pd.Series(np.random.randn(4),index=pd.date_range('1/1/2000', periods=4,freq='M'))\n",
    "\n",
    "ts\n",
    "ts.shift(2)\n",
    "ts.shift(-2)\n",
    "\n",
    "ts / ts.shift(1) - 1  # 时间序列的变化\n",
    "\n",
    "ts.shift(2, freq='M') # 对时间戳进行位移，就是将数据以不同颗粒度的进行位移\n",
    "ts.shift(1, freq='90T')"
   ]
  },
  {
   "cell_type": "markdown",
   "metadata": {},
   "source": [
    "### 通过偏移量对日期进行位移\n",
    "该部分操作的主体是日期，pandas的日期偏移量还可以用在datetime或Timestamp对象上    \n",
    "> 通过锚点偏移量的rollforward和rollback方法，可明确地将日期向前或向后“滚动”,方便去将时间序列的数据进行移动  \n",
    "\n",
    "现在暂时不涉及时间序列，就算涉及，也不会做这么细致的深入，先了解；"
   ]
  },
  {
   "cell_type": "code",
   "execution_count": 39,
   "metadata": {
    "ExecuteTime": {
     "end_time": "2019-03-08T10:37:54.898979Z",
     "start_time": "2019-03-08T10:37:54.845976Z"
    }
   },
   "outputs": [
    {
     "data": {
      "text/plain": [
       "Timestamp('2011-11-20 00:00:00')"
      ]
     },
     "execution_count": 39,
     "metadata": {},
     "output_type": "execute_result"
    },
    {
     "data": {
      "text/plain": [
       "Timestamp('2011-11-30 00:00:00')"
      ]
     },
     "execution_count": 39,
     "metadata": {},
     "output_type": "execute_result"
    },
    {
     "data": {
      "text/plain": [
       "Timestamp('2011-11-30 00:00:00')"
      ]
     },
     "execution_count": 39,
     "metadata": {},
     "output_type": "execute_result"
    },
    {
     "data": {
      "text/plain": [
       "Timestamp('2011-10-31 00:00:00')"
      ]
     },
     "execution_count": 39,
     "metadata": {},
     "output_type": "execute_result"
    }
   ],
   "source": [
    "from pandas.tseries.offsets import Day, MonthEnd # 使用pandas内置的tseries下的相关模块 \n",
    "now = datetime(2011, 11, 17)\n",
    "now + 3 * Day() \n",
    "now + MonthEnd()\n",
    "\n",
    "offset = MonthEnd()\n",
    "\n",
    "offset.rollforward(now)\n",
    "offset.rollback(now)"
   ]
  },
  {
   "cell_type": "code",
   "execution_count": 40,
   "metadata": {
    "ExecuteTime": {
     "end_time": "2019-03-08T10:37:55.048988Z",
     "start_time": "2019-03-08T10:37:54.907980Z"
    }
   },
   "outputs": [
    {
     "data": {
      "text/plain": [
       "2000-01-15    0.869750\n",
       "2000-01-19   -0.393391\n",
       "2000-01-23    0.497324\n",
       "2000-01-27    1.596532\n",
       "2000-01-31   -0.589277\n",
       "                ...   \n",
       "2000-03-15   -0.156176\n",
       "2000-03-19    1.112047\n",
       "2000-03-23   -0.223713\n",
       "2000-03-27   -0.071036\n",
       "2000-03-31    1.424790\n",
       "Freq: 4D, Length: 20, dtype: float64"
      ]
     },
     "execution_count": 40,
     "metadata": {},
     "output_type": "execute_result"
    },
    {
     "data": {
      "text/plain": [
       "2000-01-31    0.396188\n",
       "2000-02-29   -0.291873\n",
       "2000-03-31    0.062385\n",
       "dtype: float64"
      ]
     },
     "execution_count": 40,
     "metadata": {},
     "output_type": "execute_result"
    },
    {
     "data": {
      "text/plain": [
       "2000-01-31    0.396188\n",
       "2000-02-29   -0.291873\n",
       "2000-03-31    0.062385\n",
       "Freq: M, dtype: float64"
      ]
     },
     "execution_count": 40,
     "metadata": {},
     "output_type": "execute_result"
    }
   ],
   "source": [
    "# 结合groupby，使用数据滚动\n",
    "ts = pd.Series(np.random.randn(20),index=pd.date_range('1/15/2000', periods=20,freq='4d'))\n",
    "\n",
    "ts \n",
    "\n",
    "ts.groupby(offset.rollforward).mean()\n",
    "\n",
    "ts.resample('M').mean()"
   ]
  },
  {
   "cell_type": "markdown",
   "metadata": {},
   "source": [
    "## 时区处理（非重点）\n",
    "该部分平时涉及较少，主要用到的moudle是pytz模块；使用到的时候在查询相关文档  \n",
    "pandas封装了pytz的功能，可以直接查看"
   ]
  },
  {
   "cell_type": "code",
   "execution_count": 41,
   "metadata": {
    "ExecuteTime": {
     "end_time": "2019-03-08T10:37:55.956040Z",
     "start_time": "2019-03-08T10:37:55.062988Z"
    }
   },
   "outputs": [
    {
     "data": {
      "text/plain": [
       "['US/Eastern', 'US/Hawaii', 'US/Mountain', 'US/Pacific', 'UTC']"
      ]
     },
     "execution_count": 41,
     "metadata": {},
     "output_type": "execute_result"
    },
    {
     "data": {
      "text/plain": [
       "<DstTzInfo 'US/Eastern' LMT-1 day, 19:04:00 STD>"
      ]
     },
     "execution_count": 41,
     "metadata": {},
     "output_type": "execute_result"
    },
    {
     "data": {
      "text/plain": [
       "<DstTzInfo 'America/New_York' LMT-1 day, 19:04:00 STD>"
      ]
     },
     "execution_count": 41,
     "metadata": {},
     "output_type": "execute_result"
    }
   ],
   "source": [
    "import pytz\n",
    "pytz.common_timezones[-5:]\n",
    "tz = pytz.timezone('US/Eastern')\n",
    "tz\n",
    "\n",
    "tz = pytz.timezone('America/New_York')\n",
    "tz"
   ]
  },
  {
   "cell_type": "markdown",
   "metadata": {},
   "source": [
    "### 时区本地化和转换   \n",
    "如果没有特殊要求，该部分使用场景较少 \n",
    "\n",
    "- 从单纯的时间到本地化转换使用tz_localize函数进行 \n",
    "> ts_utc = ts.tz_localize('UTC')  # 相当于添加一个特定的时区  \n",
    "\n",
    "- 一旦时间序列被本地化到某个特定时区，就可以通过tz_convert将其转换到别的时区 \n",
    "> ts_utc.tz_convert('US/Eastern')"
   ]
  },
  {
   "cell_type": "code",
   "execution_count": 42,
   "metadata": {
    "ExecuteTime": {
     "end_time": "2019-03-08T10:37:56.067046Z",
     "start_time": "2019-03-08T10:37:55.967040Z"
    }
   },
   "outputs": [
    {
     "data": {
      "text/plain": [
       "2012-03-09 09:30:00    1.197916\n",
       "2012-03-10 09:30:00   -0.033606\n",
       "2012-03-11 09:30:00   -0.257208\n",
       "2012-03-12 09:30:00   -0.141465\n",
       "2012-03-13 09:30:00   -1.717730\n",
       "2012-03-14 09:30:00   -1.372597\n",
       "Freq: D, dtype: float64"
      ]
     },
     "execution_count": 42,
     "metadata": {},
     "output_type": "execute_result"
    },
    {
     "name": "stdout",
     "output_type": "stream",
     "text": [
      "None\n"
     ]
    },
    {
     "data": {
      "text/plain": [
       "DatetimeIndex(['2012-03-09 09:30:00+00:00', '2012-03-10 09:30:00+00:00',\n",
       "               '2012-03-11 09:30:00+00:00', '2012-03-12 09:30:00+00:00',\n",
       "               '2012-03-13 09:30:00+00:00', '2012-03-14 09:30:00+00:00',\n",
       "               '2012-03-15 09:30:00+00:00', '2012-03-16 09:30:00+00:00',\n",
       "               '2012-03-17 09:30:00+00:00', '2012-03-18 09:30:00+00:00'],\n",
       "              dtype='datetime64[ns, UTC]', freq='D')"
      ]
     },
     "execution_count": 42,
     "metadata": {},
     "output_type": "execute_result"
    },
    {
     "data": {
      "text/plain": [
       "2012-03-09 04:30:00-05:00    1.197916\n",
       "2012-03-10 04:30:00-05:00   -0.033606\n",
       "2012-03-11 05:30:00-04:00   -0.257208\n",
       "2012-03-12 05:30:00-04:00   -0.141465\n",
       "2012-03-13 05:30:00-04:00   -1.717730\n",
       "2012-03-14 05:30:00-04:00   -1.372597\n",
       "Freq: D, dtype: float64"
      ]
     },
     "execution_count": 42,
     "metadata": {},
     "output_type": "execute_result"
    }
   ],
   "source": [
    "rng = pd.date_range('3/9/2012 9:30', periods=6, freq='D')\n",
    "ts = pd.Series(np.random.randn(len(rng)), index=rng)\n",
    "ts\n",
    "\n",
    "print(ts.index.tz) # 索引的tz字段为None\n",
    "\n",
    "pd.date_range('3/9/2012 9:30', periods=10, freq='D',tz='UTC') # 用时区集生成日期范围\n",
    "\n",
    "# 单纯到本地化的转换是通过tz_localize方法处理的\n",
    "ts_utc = ts.tz_localize('UTC')\n",
    "\n",
    "# 一旦时间序列被本地化到某个特定时区，就可以用tz_convert将其转换到别的时区\n",
    "ts_utc.tz_convert('America/New_York')"
   ]
  },
  {
   "cell_type": "markdown",
   "metadata": {},
   "source": [
    "### 操作时区意识型Timestamp对象\n",
    "跟时间序列和日期范围差不多，独立的Timestamp对象也能被从单纯型（naive）本地化为时区意识型（time zone-aware）\n",
    "\n",
    "- 除了上述的本地化转换，在创建Timestamp时，还可以使用出参数tz传入一个时区信息 \n",
    "> pd.Timestamp('datestr', tz='US/Eastern')"
   ]
  },
  {
   "cell_type": "code",
   "execution_count": 43,
   "metadata": {
    "ExecuteTime": {
     "end_time": "2019-03-08T10:37:56.341062Z",
     "start_time": "2019-03-08T10:37:56.078047Z"
    }
   },
   "outputs": [
    {
     "data": {
      "text/plain": [
       "Timestamp('2011-03-11 23:00:00-0500', tz='America/New_York')"
      ]
     },
     "execution_count": 43,
     "metadata": {},
     "output_type": "execute_result"
    },
    {
     "data": {
      "text/plain": [
       "Timestamp('2011-03-12 04:00:00+0300', tz='Europe/Moscow')"
      ]
     },
     "execution_count": 43,
     "metadata": {},
     "output_type": "execute_result"
    }
   ],
   "source": [
    "stamp = pd.Timestamp('2011-03-12 04:00')\n",
    "stamp_utc = stamp.tz_localize('utc')\n",
    "stamp_utc.tz_convert('America/New_York')\n",
    "\n",
    "stamp_moscow = pd.Timestamp('2011-03-12 04:00',tz='Europe/Moscow')\n",
    "stamp_moscow"
   ]
  },
  {
   "cell_type": "markdown",
   "metadata": {},
   "source": [
    "### 不同时区之间的运算 \n",
    "> 不同时间序列的时区不同，合并在一起时，最终的结果会是UTC"
   ]
  },
  {
   "cell_type": "code",
   "execution_count": 44,
   "metadata": {
    "ExecuteTime": {
     "end_time": "2019-03-08T10:37:56.480070Z",
     "start_time": "2019-03-08T10:37:56.356062Z"
    }
   },
   "outputs": [
    {
     "data": {
      "text/plain": [
       "2012-03-07 09:30:00   -0.100462\n",
       "2012-03-08 09:30:00   -0.556971\n",
       "2012-03-09 09:30:00    0.995642\n",
       "2012-03-12 09:30:00    1.595712\n",
       "2012-03-13 09:30:00    1.434007\n",
       "2012-03-14 09:30:00    0.037017\n",
       "2012-03-15 09:30:00   -0.195395\n",
       "2012-03-16 09:30:00    1.238328\n",
       "2012-03-19 09:30:00    0.352087\n",
       "2012-03-20 09:30:00   -0.448135\n",
       "Freq: B, dtype: float64"
      ]
     },
     "execution_count": 44,
     "metadata": {},
     "output_type": "execute_result"
    },
    {
     "data": {
      "text/plain": [
       "DatetimeIndex(['2012-03-07 09:30:00+00:00', '2012-03-08 09:30:00+00:00',\n",
       "               '2012-03-09 09:30:00+00:00', '2012-03-12 09:30:00+00:00',\n",
       "               '2012-03-13 09:30:00+00:00', '2012-03-14 09:30:00+00:00',\n",
       "               '2012-03-15 09:30:00+00:00'],\n",
       "              dtype='datetime64[ns, UTC]', freq='B')"
      ]
     },
     "execution_count": 44,
     "metadata": {},
     "output_type": "execute_result"
    }
   ],
   "source": [
    "rng = pd.date_range('3/7/2012 9:30', periods=10, freq='B')\n",
    "ts = pd.Series(np.random.randn(len(rng)), index=rng)\n",
    "ts\n",
    "\n",
    "ts1 = ts[:7].tz_localize('Europe/London')\n",
    "ts2 = ts1[2:].tz_convert('Europe/Moscow')\n",
    "result = ts1 + ts2\n",
    "result.index"
   ]
  },
  {
   "cell_type": "markdown",
   "metadata": {},
   "source": [
    "## 时期及其算术运算\n",
    "- 时期(period)表示的是时间区间。**<span class=\"burk\"><span class=\"mark\">pd.Period</span></span>**类来显示创建该类对象； 注意freq参数\n",
    "> p = pd.Period(2007, freq='A-DEC') # 该对象可与数值相加，使其频率发生变化，数值代表的含义与freq参数有关    \n",
    "- **<span class=\"mark\">pd.period_range</span>**函数可用于创建规则的时期范围,其对象可以作为索引存在 \n",
    "- **<span class=\"mark\">pd.PeriodIndex</span>** 可直接使用字符串构成的list创建索引"
   ]
  },
  {
   "cell_type": "code",
   "execution_count": 45,
   "metadata": {
    "ExecuteTime": {
     "end_time": "2019-03-08T10:37:56.686081Z",
     "start_time": "2019-03-08T10:37:56.498071Z"
    }
   },
   "outputs": [
    {
     "data": {
      "text/plain": [
       "Period('2007', 'A-DEC')"
      ]
     },
     "execution_count": 45,
     "metadata": {},
     "output_type": "execute_result"
    },
    {
     "data": {
      "text/plain": [
       "Period('2012', 'A-DEC')"
      ]
     },
     "execution_count": 45,
     "metadata": {},
     "output_type": "execute_result"
    },
    {
     "data": {
      "text/plain": [
       "Period('2005', 'A-DEC')"
      ]
     },
     "execution_count": 45,
     "metadata": {},
     "output_type": "execute_result"
    },
    {
     "data": {
      "text/plain": [
       "7"
      ]
     },
     "execution_count": 45,
     "metadata": {},
     "output_type": "execute_result"
    },
    {
     "data": {
      "text/plain": [
       "2016-01    0.632353\n",
       "2016-02   -2.186845\n",
       "2016-03    1.174544\n",
       "2016-04   -1.033288\n",
       "2016-05    0.233970\n",
       "2016-06    0.270620\n",
       "Freq: M, dtype: float64"
      ]
     },
     "execution_count": 45,
     "metadata": {},
     "output_type": "execute_result"
    },
    {
     "data": {
      "text/plain": [
       "PeriodIndex(['2001Q3', '2002Q2', '2003Q1'], dtype='period[Q-DEC]', freq='Q-DEC')"
      ]
     },
     "execution_count": 45,
     "metadata": {},
     "output_type": "execute_result"
    }
   ],
   "source": [
    "p = pd.Period(2007, freq='A-DEC')\n",
    "p\n",
    "p+5\n",
    "p-2\n",
    "pd.Period('2014', freq='A-DEC') - p\n",
    "\n",
    "rng = pd.period_range('2016-01-01','2016-06-01',freq='M')\n",
    "ser1 = pd.Series(np.random.randn(len(rng)),index=rng)\n",
    "ser1\n",
    "\n",
    "values = ['2001Q3', '2002Q2', '2003Q1']\n",
    "index = pd.PeriodIndex(values, freq='Q-DEC')\n",
    "index"
   ]
  },
  {
   "cell_type": "markdown",
   "metadata": {
    "ExecuteTime": {
     "end_time": "2019-03-07T11:03:16.101379Z",
     "start_time": "2019-03-07T11:03:16.030375Z"
    }
   },
   "source": [
    "### 时期的频率和转换\n",
    "- 使用**periodObj.asfreq('freqtype',how='start')** 进行时期频率转换(就是时期频率的缩放和扩展)  更多的是使用resample函数\n",
    "- 该方法同样使用与PeriodInexpensive或者TimeSeries对象  \n",
    "- 时期其余的还有一些特殊的用法，尤其是频率的变化；这些变化会简化操作和运算，但也可以通过一些其他的方式进行（如MultiIndex）\n",
    "- **Timestamp和period可以相互转换（to_period函数和to_timestamp函数）** \n",
    "- 不同时期数据的值列（如年、月列）可以通过pd.PeriodIndex构成一个新列（也可通过其他方法获取）  \n",
    "- 重采样及频率转换   \n",
    "> 将时间序列从一个频率转换到另一个频率中 obj.resample(freq,how,kind)函数 具体参数参考文档  \n",
    "- 降采样（聚合）   同样使用resample函数（使用groupby函数也能完成，不过没有那么任意）    \n",
    "> 就是将时期的频率变大 如：每天到每周的汇总  该步骤需要聚合       \n",
    "- 升采样（插值）  低频变高频 时期索引变长 数据填充 还是使用resample函数\n",
    "\n",
    "总结：主要讲述的是resample进行时期频率变化，使用较多的还是降采样；不过一些特殊的时期频率如月、周等，使用groupby函数也能完成该功能，但是一些自定义的频率 如'每五分钟'等，还是使用resample函数进行；"
   ]
  },
  {
   "cell_type": "code",
   "execution_count": 46,
   "metadata": {
    "ExecuteTime": {
     "end_time": "2019-03-08T10:37:56.833090Z",
     "start_time": "2019-03-08T10:37:56.697082Z"
    }
   },
   "outputs": [
    {
     "data": {
      "text/plain": [
       "Period('2007', 'A-DEC')"
      ]
     },
     "execution_count": 46,
     "metadata": {},
     "output_type": "execute_result"
    },
    {
     "data": {
      "text/plain": [
       "Period('2007-01', 'M')"
      ]
     },
     "execution_count": 46,
     "metadata": {},
     "output_type": "execute_result"
    },
    {
     "data": {
      "text/plain": [
       "Period('2007-12', 'M')"
      ]
     },
     "execution_count": 46,
     "metadata": {},
     "output_type": "execute_result"
    },
    {
     "data": {
      "text/plain": [
       "2006   -0.759456\n",
       "2007   -0.127050\n",
       "2008   -1.328288\n",
       "2009    0.871711\n",
       "Freq: A-DEC, dtype: float64"
      ]
     },
     "execution_count": 46,
     "metadata": {},
     "output_type": "execute_result"
    },
    {
     "data": {
      "text/plain": [
       "2006-01   -0.759456\n",
       "2007-01   -0.127050\n",
       "2008-01   -1.328288\n",
       "2009-01    0.871711\n",
       "Freq: M, dtype: float64"
      ]
     },
     "execution_count": 46,
     "metadata": {},
     "output_type": "execute_result"
    },
    {
     "data": {
      "text/plain": [
       "2006-12-29   -0.759456\n",
       "2007-12-31   -0.127050\n",
       "2008-12-31   -1.328288\n",
       "2009-12-31    0.871711\n",
       "Freq: B, dtype: float64"
      ]
     },
     "execution_count": 46,
     "metadata": {},
     "output_type": "execute_result"
    }
   ],
   "source": [
    "p = pd.Period('2007', freq='A-DEC')\n",
    "p\n",
    "p.asfreq('M', how='start')\n",
    "p.asfreq('M', how='end')\n",
    "\n",
    "p = pd.Period('2007', freq='A-JUN')\n",
    "p = pd.Period('Aug-2007', 'M')\n",
    "\n",
    "rng = pd.period_range('2006', '2009', freq='A-DEC')\n",
    "ts = pd.Series(np.random.randn(len(rng)), index=rng)\n",
    "ts\n",
    "\n",
    "ts.asfreq('M', how='start')\n",
    "ts.asfreq('B', how='end')"
   ]
  },
  {
   "cell_type": "markdown",
   "metadata": {},
   "source": [
    "### 按季度计算的时期频率\n",
    "> 季度型数据在会计、金融等领域中很常见。许多季度型数据都会涉及“财年末”的概念，通常是一年12个月中某月的最后一个日历日或工作日\n",
    "\n",
    "该部分在处理时间序列，尤其是涉及到年度数据，还是很方便的；"
   ]
  },
  {
   "cell_type": "code",
   "execution_count": 47,
   "metadata": {
    "ExecuteTime": {
     "end_time": "2019-03-08T10:37:56.999099Z",
     "start_time": "2019-03-08T10:37:56.842090Z"
    }
   },
   "outputs": [
    {
     "data": {
      "text/plain": [
       "Period('2012Q4', 'Q-JAN')"
      ]
     },
     "execution_count": 47,
     "metadata": {},
     "output_type": "execute_result"
    },
    {
     "data": {
      "text/plain": [
       "Period('2011-11-01', 'D')"
      ]
     },
     "execution_count": 47,
     "metadata": {},
     "output_type": "execute_result"
    },
    {
     "data": {
      "text/plain": [
       "Period('2012-01-31', 'D')"
      ]
     },
     "execution_count": 47,
     "metadata": {},
     "output_type": "execute_result"
    },
    {
     "data": {
      "text/plain": [
       "Period('2012-01-30 16:00', 'T')"
      ]
     },
     "execution_count": 47,
     "metadata": {},
     "output_type": "execute_result"
    },
    {
     "data": {
      "text/plain": [
       "Timestamp('2012-01-30 16:00:00')"
      ]
     },
     "execution_count": 47,
     "metadata": {},
     "output_type": "execute_result"
    },
    {
     "data": {
      "text/plain": [
       "2011Q3    0\n",
       "2011Q4    1\n",
       "2012Q1    2\n",
       "2012Q2    3\n",
       "2012Q3    4\n",
       "2012Q4    5\n",
       "Freq: Q-JAN, dtype: int32"
      ]
     },
     "execution_count": 47,
     "metadata": {},
     "output_type": "execute_result"
    },
    {
     "data": {
      "text/plain": [
       "2010-10-28 16:00:00    0\n",
       "2011-01-28 16:00:00    1\n",
       "2011-04-28 16:00:00    2\n",
       "2011-07-28 16:00:00    3\n",
       "2011-10-28 16:00:00    4\n",
       "2012-01-30 16:00:00    5\n",
       "dtype: int32"
      ]
     },
     "execution_count": 47,
     "metadata": {},
     "output_type": "execute_result"
    }
   ],
   "source": [
    "p = pd.Period('2012Q4', freq='Q-JAN')\n",
    "p\n",
    "\n",
    "p.asfreq('D', 'start')  # 注意 其时间跨度\n",
    "p.asfreq('D', 'end')\n",
    "\n",
    "# 获取季度倒数第二个工作日下午4点的时间戳\n",
    "p4pm = (p.asfreq('B', 'e') - 1).asfreq('T', 's') + 16 * 60\n",
    "p4pm\n",
    "p4pm.to_timestamp()\n",
    "\n",
    "rng = pd.period_range('2011Q3', '2012Q4', freq='Q-JAN')\n",
    "ts = pd.Series(np.arange(len(rng)), index=rng)\n",
    "ts\n",
    "\n",
    "new_rng = (rng.asfreq('B', 'e') - 1).asfreq('T', 's') + 16 * 60\n",
    "ts.index = new_rng.to_timestamp()\n",
    "ts"
   ]
  },
  {
   "cell_type": "markdown",
   "metadata": {},
   "source": [
    "### 将Timestamp转换为Period（及其反向过程）\n",
    "转换时期频率对象\n",
    "- 1、使用to_period方法，可以将由时间戳索引的Series和DataFrame对象转换为以时期索引\n",
    "- 2、转换回，使用to_timestamp"
   ]
  },
  {
   "cell_type": "code",
   "execution_count": 48,
   "metadata": {
    "ExecuteTime": {
     "end_time": "2019-03-08T10:37:57.111106Z",
     "start_time": "2019-03-08T10:37:57.015100Z"
    }
   },
   "outputs": [
    {
     "data": {
      "text/plain": [
       "2000-01-31    1.108432\n",
       "2000-02-29    0.673109\n",
       "2000-03-31   -1.808695\n",
       "Freq: M, dtype: float64"
      ]
     },
     "execution_count": 48,
     "metadata": {},
     "output_type": "execute_result"
    },
    {
     "data": {
      "text/plain": [
       "2000-01    1.108432\n",
       "2000-02    0.673109\n",
       "2000-03   -1.808695\n",
       "Freq: M, dtype: float64"
      ]
     },
     "execution_count": 48,
     "metadata": {},
     "output_type": "execute_result"
    },
    {
     "data": {
      "text/plain": [
       "2000-01-29    0.058106\n",
       "2000-01-30    0.200596\n",
       "2000-01-31    1.046849\n",
       "2000-02-01   -1.822660\n",
       "2000-02-02    1.623131\n",
       "2000-02-03   -2.819414\n",
       "Freq: D, dtype: float64"
      ]
     },
     "execution_count": 48,
     "metadata": {},
     "output_type": "execute_result"
    },
    {
     "data": {
      "text/plain": [
       "2000-01    0.058106\n",
       "2000-01    0.200596\n",
       "2000-01    1.046849\n",
       "2000-02   -1.822660\n",
       "2000-02    1.623131\n",
       "2000-02   -2.819414\n",
       "Freq: M, dtype: float64"
      ]
     },
     "execution_count": 48,
     "metadata": {},
     "output_type": "execute_result"
    }
   ],
   "source": [
    "# 时间戳转换时期频率\n",
    "rng = pd.date_range('2000-01-01', periods=3, freq='M')\n",
    "ts = pd.Series(np.random.randn(3), index=rng)\n",
    "ts\n",
    "\n",
    "pts = ts.to_period()  # 转换为period形式\n",
    "pts\n",
    "\n",
    "rng = pd.date_range('1/29/2000', periods=6, freq='D')\n",
    "ts2 = pd.Series(np.random.randn(6), index=rng)\n",
    "ts2\n",
    "ts2.to_period('M')"
   ]
  },
  {
   "cell_type": "code",
   "execution_count": 49,
   "metadata": {
    "ExecuteTime": {
     "end_time": "2019-03-08T10:37:57.161108Z",
     "start_time": "2019-03-08T10:37:57.121106Z"
    }
   },
   "outputs": [
    {
     "data": {
      "text/plain": [
       "2000-01-29    0.058106\n",
       "2000-01-30    0.200596\n",
       "2000-01-31    1.046849\n",
       "2000-02-01   -1.822660\n",
       "2000-02-02    1.623131\n",
       "2000-02-03   -2.819414\n",
       "Freq: D, dtype: float64"
      ]
     },
     "execution_count": 49,
     "metadata": {},
     "output_type": "execute_result"
    },
    {
     "data": {
      "text/plain": [
       "2000-01-29    0.058106\n",
       "2000-01-30    0.200596\n",
       "2000-01-31    1.046849\n",
       "2000-02-01   -1.822660\n",
       "2000-02-02    1.623131\n",
       "2000-02-03   -2.819414\n",
       "Freq: D, dtype: float64"
      ]
     },
     "execution_count": 49,
     "metadata": {},
     "output_type": "execute_result"
    }
   ],
   "source": [
    "# 时期频率转换为时间戳\n",
    "pts = ts2.to_period()\n",
    "pts\n",
    " \n",
    "pts.to_timestamp(how='end')  # 参数查看api"
   ]
  },
  {
   "cell_type": "markdown",
   "metadata": {},
   "source": [
    "### 通过数组创建PeriodIndex\n",
    "固定频率的数据集通常会将时间信息分开存放在多个列中，将多个列的时间信息汇总成时期频率的索引"
   ]
  },
  {
   "cell_type": "code",
   "execution_count": 50,
   "metadata": {
    "ExecuteTime": {
     "end_time": "2019-03-08T10:37:57.377121Z",
     "start_time": "2019-03-08T10:37:57.172109Z"
    }
   },
   "outputs": [
    {
     "data": {
      "text/html": [
       "<div>\n",
       "<style scoped>\n",
       "    .dataframe tbody tr th:only-of-type {\n",
       "        vertical-align: middle;\n",
       "    }\n",
       "\n",
       "    .dataframe tbody tr th {\n",
       "        vertical-align: top;\n",
       "    }\n",
       "\n",
       "    .dataframe thead th {\n",
       "        text-align: right;\n",
       "    }\n",
       "</style>\n",
       "<table border=\"1\" class=\"dataframe\">\n",
       "  <thead>\n",
       "    <tr style=\"text-align: right;\">\n",
       "      <th></th>\n",
       "      <th>year</th>\n",
       "      <th>quarter</th>\n",
       "      <th>realgdp</th>\n",
       "      <th>realcons</th>\n",
       "      <th>realinv</th>\n",
       "      <th>realgovt</th>\n",
       "      <th>realdpi</th>\n",
       "      <th>cpi</th>\n",
       "      <th>m1</th>\n",
       "      <th>tbilrate</th>\n",
       "      <th>unemp</th>\n",
       "      <th>pop</th>\n",
       "      <th>infl</th>\n",
       "      <th>realint</th>\n",
       "    </tr>\n",
       "  </thead>\n",
       "  <tbody>\n",
       "    <tr>\n",
       "      <th>0</th>\n",
       "      <td>1959.0</td>\n",
       "      <td>1.0</td>\n",
       "      <td>2710.349</td>\n",
       "      <td>1707.4</td>\n",
       "      <td>286.898</td>\n",
       "      <td>470.045</td>\n",
       "      <td>1886.9</td>\n",
       "      <td>28.98</td>\n",
       "      <td>139.7</td>\n",
       "      <td>2.82</td>\n",
       "      <td>5.8</td>\n",
       "      <td>177.146</td>\n",
       "      <td>0.00</td>\n",
       "      <td>0.00</td>\n",
       "    </tr>\n",
       "    <tr>\n",
       "      <th>1</th>\n",
       "      <td>1959.0</td>\n",
       "      <td>2.0</td>\n",
       "      <td>2778.801</td>\n",
       "      <td>1733.7</td>\n",
       "      <td>310.859</td>\n",
       "      <td>481.301</td>\n",
       "      <td>1919.7</td>\n",
       "      <td>29.15</td>\n",
       "      <td>141.7</td>\n",
       "      <td>3.08</td>\n",
       "      <td>5.1</td>\n",
       "      <td>177.830</td>\n",
       "      <td>2.34</td>\n",
       "      <td>0.74</td>\n",
       "    </tr>\n",
       "    <tr>\n",
       "      <th>2</th>\n",
       "      <td>1959.0</td>\n",
       "      <td>3.0</td>\n",
       "      <td>2775.488</td>\n",
       "      <td>1751.8</td>\n",
       "      <td>289.226</td>\n",
       "      <td>491.260</td>\n",
       "      <td>1916.4</td>\n",
       "      <td>29.35</td>\n",
       "      <td>140.5</td>\n",
       "      <td>3.82</td>\n",
       "      <td>5.3</td>\n",
       "      <td>178.657</td>\n",
       "      <td>2.74</td>\n",
       "      <td>1.09</td>\n",
       "    </tr>\n",
       "    <tr>\n",
       "      <th>3</th>\n",
       "      <td>1959.0</td>\n",
       "      <td>4.0</td>\n",
       "      <td>2785.204</td>\n",
       "      <td>1753.7</td>\n",
       "      <td>299.356</td>\n",
       "      <td>484.052</td>\n",
       "      <td>1931.3</td>\n",
       "      <td>29.37</td>\n",
       "      <td>140.0</td>\n",
       "      <td>4.33</td>\n",
       "      <td>5.6</td>\n",
       "      <td>179.386</td>\n",
       "      <td>0.27</td>\n",
       "      <td>4.06</td>\n",
       "    </tr>\n",
       "    <tr>\n",
       "      <th>4</th>\n",
       "      <td>1960.0</td>\n",
       "      <td>1.0</td>\n",
       "      <td>2847.699</td>\n",
       "      <td>1770.5</td>\n",
       "      <td>331.722</td>\n",
       "      <td>462.199</td>\n",
       "      <td>1955.5</td>\n",
       "      <td>29.54</td>\n",
       "      <td>139.6</td>\n",
       "      <td>3.50</td>\n",
       "      <td>5.2</td>\n",
       "      <td>180.007</td>\n",
       "      <td>2.31</td>\n",
       "      <td>1.19</td>\n",
       "    </tr>\n",
       "  </tbody>\n",
       "</table>\n",
       "</div>"
      ],
      "text/plain": [
       "     year  quarter   realgdp  realcons  realinv  realgovt  realdpi    cpi  \\\n",
       "0  1959.0      1.0  2710.349    1707.4  286.898   470.045   1886.9  28.98   \n",
       "1  1959.0      2.0  2778.801    1733.7  310.859   481.301   1919.7  29.15   \n",
       "2  1959.0      3.0  2775.488    1751.8  289.226   491.260   1916.4  29.35   \n",
       "3  1959.0      4.0  2785.204    1753.7  299.356   484.052   1931.3  29.37   \n",
       "4  1960.0      1.0  2847.699    1770.5  331.722   462.199   1955.5  29.54   \n",
       "\n",
       "      m1  tbilrate  unemp      pop  infl  realint  \n",
       "0  139.7      2.82    5.8  177.146  0.00     0.00  \n",
       "1  141.7      3.08    5.1  177.830  2.34     0.74  \n",
       "2  140.5      3.82    5.3  178.657  2.74     1.09  \n",
       "3  140.0      4.33    5.6  179.386  0.27     4.06  \n",
       "4  139.6      3.50    5.2  180.007  2.31     1.19  "
      ]
     },
     "execution_count": 50,
     "metadata": {},
     "output_type": "execute_result"
    },
    {
     "data": {
      "text/plain": [
       "PeriodIndex(['1959Q1', '1959Q2', '1959Q3', '1959Q4', '1960Q1', '1960Q2',\n",
       "             '1960Q3', '1960Q4', '1961Q1', '1961Q2',\n",
       "             ...\n",
       "             '2007Q2', '2007Q3', '2007Q4', '2008Q1', '2008Q2', '2008Q3',\n",
       "             '2008Q4', '2009Q1', '2009Q2', '2009Q3'],\n",
       "            dtype='period[Q-DEC]', length=203, freq='Q-DEC')"
      ]
     },
     "execution_count": 50,
     "metadata": {},
     "output_type": "execute_result"
    },
    {
     "data": {
      "text/html": [
       "<div>\n",
       "<style scoped>\n",
       "    .dataframe tbody tr th:only-of-type {\n",
       "        vertical-align: middle;\n",
       "    }\n",
       "\n",
       "    .dataframe tbody tr th {\n",
       "        vertical-align: top;\n",
       "    }\n",
       "\n",
       "    .dataframe thead th {\n",
       "        text-align: right;\n",
       "    }\n",
       "</style>\n",
       "<table border=\"1\" class=\"dataframe\">\n",
       "  <thead>\n",
       "    <tr style=\"text-align: right;\">\n",
       "      <th></th>\n",
       "      <th>year</th>\n",
       "      <th>quarter</th>\n",
       "      <th>realgdp</th>\n",
       "      <th>realcons</th>\n",
       "      <th>realinv</th>\n",
       "      <th>realgovt</th>\n",
       "      <th>realdpi</th>\n",
       "      <th>cpi</th>\n",
       "      <th>m1</th>\n",
       "      <th>tbilrate</th>\n",
       "      <th>unemp</th>\n",
       "      <th>pop</th>\n",
       "      <th>infl</th>\n",
       "      <th>realint</th>\n",
       "    </tr>\n",
       "  </thead>\n",
       "  <tbody>\n",
       "    <tr>\n",
       "      <th>1959Q1</th>\n",
       "      <td>1959.0</td>\n",
       "      <td>1.0</td>\n",
       "      <td>2710.349</td>\n",
       "      <td>1707.4</td>\n",
       "      <td>286.898</td>\n",
       "      <td>470.045</td>\n",
       "      <td>1886.9</td>\n",
       "      <td>28.98</td>\n",
       "      <td>139.7</td>\n",
       "      <td>2.82</td>\n",
       "      <td>5.8</td>\n",
       "      <td>177.146</td>\n",
       "      <td>0.00</td>\n",
       "      <td>0.00</td>\n",
       "    </tr>\n",
       "    <tr>\n",
       "      <th>1959Q2</th>\n",
       "      <td>1959.0</td>\n",
       "      <td>2.0</td>\n",
       "      <td>2778.801</td>\n",
       "      <td>1733.7</td>\n",
       "      <td>310.859</td>\n",
       "      <td>481.301</td>\n",
       "      <td>1919.7</td>\n",
       "      <td>29.15</td>\n",
       "      <td>141.7</td>\n",
       "      <td>3.08</td>\n",
       "      <td>5.1</td>\n",
       "      <td>177.830</td>\n",
       "      <td>2.34</td>\n",
       "      <td>0.74</td>\n",
       "    </tr>\n",
       "    <tr>\n",
       "      <th>1959Q3</th>\n",
       "      <td>1959.0</td>\n",
       "      <td>3.0</td>\n",
       "      <td>2775.488</td>\n",
       "      <td>1751.8</td>\n",
       "      <td>289.226</td>\n",
       "      <td>491.260</td>\n",
       "      <td>1916.4</td>\n",
       "      <td>29.35</td>\n",
       "      <td>140.5</td>\n",
       "      <td>3.82</td>\n",
       "      <td>5.3</td>\n",
       "      <td>178.657</td>\n",
       "      <td>2.74</td>\n",
       "      <td>1.09</td>\n",
       "    </tr>\n",
       "    <tr>\n",
       "      <th>1959Q4</th>\n",
       "      <td>1959.0</td>\n",
       "      <td>4.0</td>\n",
       "      <td>2785.204</td>\n",
       "      <td>1753.7</td>\n",
       "      <td>299.356</td>\n",
       "      <td>484.052</td>\n",
       "      <td>1931.3</td>\n",
       "      <td>29.37</td>\n",
       "      <td>140.0</td>\n",
       "      <td>4.33</td>\n",
       "      <td>5.6</td>\n",
       "      <td>179.386</td>\n",
       "      <td>0.27</td>\n",
       "      <td>4.06</td>\n",
       "    </tr>\n",
       "    <tr>\n",
       "      <th>1960Q1</th>\n",
       "      <td>1960.0</td>\n",
       "      <td>1.0</td>\n",
       "      <td>2847.699</td>\n",
       "      <td>1770.5</td>\n",
       "      <td>331.722</td>\n",
       "      <td>462.199</td>\n",
       "      <td>1955.5</td>\n",
       "      <td>29.54</td>\n",
       "      <td>139.6</td>\n",
       "      <td>3.50</td>\n",
       "      <td>5.2</td>\n",
       "      <td>180.007</td>\n",
       "      <td>2.31</td>\n",
       "      <td>1.19</td>\n",
       "    </tr>\n",
       "  </tbody>\n",
       "</table>\n",
       "</div>"
      ],
      "text/plain": [
       "          year  quarter   realgdp  realcons  realinv  realgovt  realdpi  \\\n",
       "1959Q1  1959.0      1.0  2710.349    1707.4  286.898   470.045   1886.9   \n",
       "1959Q2  1959.0      2.0  2778.801    1733.7  310.859   481.301   1919.7   \n",
       "1959Q3  1959.0      3.0  2775.488    1751.8  289.226   491.260   1916.4   \n",
       "1959Q4  1959.0      4.0  2785.204    1753.7  299.356   484.052   1931.3   \n",
       "1960Q1  1960.0      1.0  2847.699    1770.5  331.722   462.199   1955.5   \n",
       "\n",
       "          cpi     m1  tbilrate  unemp      pop  infl  realint  \n",
       "1959Q1  28.98  139.7      2.82    5.8  177.146  0.00     0.00  \n",
       "1959Q2  29.15  141.7      3.08    5.1  177.830  2.34     0.74  \n",
       "1959Q3  29.35  140.5      3.82    5.3  178.657  2.74     1.09  \n",
       "1959Q4  29.37  140.0      4.33    5.6  179.386  0.27     4.06  \n",
       "1960Q1  29.54  139.6      3.50    5.2  180.007  2.31     1.19  "
      ]
     },
     "execution_count": 50,
     "metadata": {},
     "output_type": "execute_result"
    }
   ],
   "source": [
    "data = pd.read_csv('examples/macrodata.csv')\n",
    "data.head()\n",
    "\n",
    "index = pd.PeriodIndex(year=data.year,quarter=data.quarter,freq='Q-DEC') # 汇总成时期频率索引\n",
    "index\n",
    "data.index = index\n",
    "data.head()"
   ]
  },
  {
   "cell_type": "markdown",
   "metadata": {},
   "source": [
    "## 重采样及频率转换\n",
    "重采样（resampling）指的是将时间序列从一个频率转换到另一个频率的处理过程。将高频率数据聚合到低频率称为降采样（downsampling），而将低频率数据转换到高频率则称为升采样（upsampling）\n",
    "\n",
    "主要使用pandas的resample方法"
   ]
  },
  {
   "cell_type": "code",
   "execution_count": 51,
   "metadata": {
    "ExecuteTime": {
     "end_time": "2019-03-08T10:37:57.471126Z",
     "start_time": "2019-03-08T10:37:57.395122Z"
    }
   },
   "outputs": [
    {
     "data": {
      "text/plain": [
       "2000-01-01   -0.337367\n",
       "2000-01-02   -1.749923\n",
       "2000-01-03    0.332482\n",
       "2000-01-04   -0.456681\n",
       "2000-01-05    1.503249\n",
       "Freq: D, dtype: float64"
      ]
     },
     "execution_count": 51,
     "metadata": {},
     "output_type": "execute_result"
    },
    {
     "data": {
      "text/plain": [
       "2000-01-31   -0.131201\n",
       "2000-02-29   -0.117593\n",
       "2000-03-31   -0.223706\n",
       "2000-04-30   -0.214117\n",
       "Freq: M, dtype: float64"
      ]
     },
     "execution_count": 51,
     "metadata": {},
     "output_type": "execute_result"
    },
    {
     "data": {
      "text/plain": [
       "2000-01   -0.131201\n",
       "2000-02   -0.117593\n",
       "2000-03   -0.223706\n",
       "2000-04   -0.214117\n",
       "Freq: M, dtype: float64"
      ]
     },
     "execution_count": 51,
     "metadata": {},
     "output_type": "execute_result"
    }
   ],
   "source": [
    "rng = pd.date_range('2000-01-01', periods=100, freq='D')\n",
    "ts = pd.Series(np.random.randn(len(rng)), index=rng)\n",
    "ts.head()\n",
    "\n",
    "ts.resample('M').mean() # 重采样\n",
    "ts.resample('M', kind='period').mean() # 指定频率"
   ]
  },
  {
   "cell_type": "markdown",
   "metadata": {},
   "source": [
    "### 降采样\n",
    "将数据聚合到规律的低频率，需要注意区间的闭合和标记,使用closed、label参数；偏移量使用loffset参数\n",
    "\n",
    "> OHLC重采样、升采样和插值 涉及较少，遇到时再去补充"
   ]
  },
  {
   "cell_type": "code",
   "execution_count": 52,
   "metadata": {
    "ExecuteTime": {
     "end_time": "2019-03-08T10:37:57.571132Z",
     "start_time": "2019-03-08T10:37:57.480127Z"
    }
   },
   "outputs": [
    {
     "data": {
      "text/plain": [
       "2000-01-01 00:00:00     0\n",
       "2000-01-01 00:01:00     1\n",
       "2000-01-01 00:02:00     2\n",
       "2000-01-01 00:03:00     3\n",
       "2000-01-01 00:04:00     4\n",
       "                       ..\n",
       "2000-01-01 00:07:00     7\n",
       "2000-01-01 00:08:00     8\n",
       "2000-01-01 00:09:00     9\n",
       "2000-01-01 00:10:00    10\n",
       "2000-01-01 00:11:00    11\n",
       "Freq: T, Length: 12, dtype: int32"
      ]
     },
     "execution_count": 52,
     "metadata": {},
     "output_type": "execute_result"
    },
    {
     "data": {
      "text/plain": [
       "2000-01-01 00:00:00     0\n",
       "2000-01-01 00:05:00    15\n",
       "2000-01-01 00:10:00    40\n",
       "2000-01-01 00:15:00    11\n",
       "Freq: 5T, dtype: int32"
      ]
     },
     "execution_count": 52,
     "metadata": {},
     "output_type": "execute_result"
    },
    {
     "data": {
      "text/plain": [
       "1999-12-31 23:59:59     0\n",
       "2000-01-01 00:04:59    15\n",
       "2000-01-01 00:09:59    40\n",
       "2000-01-01 00:14:59    11\n",
       "Freq: 5T, dtype: int32"
      ]
     },
     "execution_count": 52,
     "metadata": {},
     "output_type": "execute_result"
    }
   ],
   "source": [
    "rng = pd.date_range('2000-01-01', periods=12, freq='T')\n",
    "ts = pd.Series(np.arange(12), index=rng)\n",
    "ts\n",
    "\n",
    "ts.resample('5min', closed='right',label='right').sum() # 将数据聚合到5分钟 右边区间闭合 面元右边界进行标记\n",
    "\n",
    "ts.resample('5min', closed='right',label='right', loffset='-1s').sum() # 向左偏移1sn  可以通过shift函数达到同样的效果"
   ]
  },
  {
   "cell_type": "markdown",
   "metadata": {},
   "source": [
    "### 通过时期进行重采样 \n",
    "该部分较为复杂，需要另外补充其他资料，暂缓\n",
    "\n",
    "- 在降采样中，目标频率必须是源频率的子时期（subperiod）。\n",
    "- 在升采样中，目标频率必须是源频率的超时期（superperiod）。\n"
   ]
  },
  {
   "cell_type": "code",
   "execution_count": 53,
   "metadata": {
    "ExecuteTime": {
     "end_time": "2019-03-08T10:37:57.808146Z",
     "start_time": "2019-03-08T10:37:57.579132Z"
    }
   },
   "outputs": [
    {
     "data": {
      "text/html": [
       "<div>\n",
       "<style scoped>\n",
       "    .dataframe tbody tr th:only-of-type {\n",
       "        vertical-align: middle;\n",
       "    }\n",
       "\n",
       "    .dataframe tbody tr th {\n",
       "        vertical-align: top;\n",
       "    }\n",
       "\n",
       "    .dataframe thead th {\n",
       "        text-align: right;\n",
       "    }\n",
       "</style>\n",
       "<table border=\"1\" class=\"dataframe\">\n",
       "  <thead>\n",
       "    <tr style=\"text-align: right;\">\n",
       "      <th></th>\n",
       "      <th>Colorado</th>\n",
       "      <th>Texas</th>\n",
       "      <th>NewYork</th>\n",
       "      <th>Ohio</th>\n",
       "    </tr>\n",
       "  </thead>\n",
       "  <tbody>\n",
       "    <tr>\n",
       "      <th>2000-01</th>\n",
       "      <td>0.861733</td>\n",
       "      <td>1.218972</td>\n",
       "      <td>0.403220</td>\n",
       "      <td>-0.221266</td>\n",
       "    </tr>\n",
       "    <tr>\n",
       "      <th>2000-02</th>\n",
       "      <td>-0.557682</td>\n",
       "      <td>-2.298431</td>\n",
       "      <td>-0.087999</td>\n",
       "      <td>-1.083802</td>\n",
       "    </tr>\n",
       "    <tr>\n",
       "      <th>2000-03</th>\n",
       "      <td>-1.078346</td>\n",
       "      <td>0.881794</td>\n",
       "      <td>0.084537</td>\n",
       "      <td>-0.560763</td>\n",
       "    </tr>\n",
       "    <tr>\n",
       "      <th>2000-04</th>\n",
       "      <td>0.604420</td>\n",
       "      <td>-1.798936</td>\n",
       "      <td>-0.223939</td>\n",
       "      <td>1.350259</td>\n",
       "    </tr>\n",
       "    <tr>\n",
       "      <th>2000-05</th>\n",
       "      <td>1.447342</td>\n",
       "      <td>1.236791</td>\n",
       "      <td>-0.103662</td>\n",
       "      <td>1.003803</td>\n",
       "    </tr>\n",
       "  </tbody>\n",
       "</table>\n",
       "</div>"
      ],
      "text/plain": [
       "         Colorado     Texas   NewYork      Ohio\n",
       "2000-01  0.861733  1.218972  0.403220 -0.221266\n",
       "2000-02 -0.557682 -2.298431 -0.087999 -1.083802\n",
       "2000-03 -1.078346  0.881794  0.084537 -0.560763\n",
       "2000-04  0.604420 -1.798936 -0.223939  1.350259\n",
       "2000-05  1.447342  1.236791 -0.103662  1.003803"
      ]
     },
     "execution_count": 53,
     "metadata": {},
     "output_type": "execute_result"
    },
    {
     "data": {
      "text/html": [
       "<div>\n",
       "<style scoped>\n",
       "    .dataframe tbody tr th:only-of-type {\n",
       "        vertical-align: middle;\n",
       "    }\n",
       "\n",
       "    .dataframe tbody tr th {\n",
       "        vertical-align: top;\n",
       "    }\n",
       "\n",
       "    .dataframe thead th {\n",
       "        text-align: right;\n",
       "    }\n",
       "</style>\n",
       "<table border=\"1\" class=\"dataframe\">\n",
       "  <thead>\n",
       "    <tr style=\"text-align: right;\">\n",
       "      <th></th>\n",
       "      <th>Colorado</th>\n",
       "      <th>Texas</th>\n",
       "      <th>NewYork</th>\n",
       "      <th>Ohio</th>\n",
       "    </tr>\n",
       "  </thead>\n",
       "  <tbody>\n",
       "    <tr>\n",
       "      <th>2000</th>\n",
       "      <td>0.262760</td>\n",
       "      <td>-0.401055</td>\n",
       "      <td>-0.258218</td>\n",
       "      <td>-0.105619</td>\n",
       "    </tr>\n",
       "    <tr>\n",
       "      <th>2001</th>\n",
       "      <td>-0.435094</td>\n",
       "      <td>-0.070998</td>\n",
       "      <td>0.286566</td>\n",
       "      <td>-0.119039</td>\n",
       "    </tr>\n",
       "  </tbody>\n",
       "</table>\n",
       "</div>"
      ],
      "text/plain": [
       "      Colorado     Texas   NewYork      Ohio\n",
       "2000  0.262760 -0.401055 -0.258218 -0.105619\n",
       "2001 -0.435094 -0.070998  0.286566 -0.119039"
      ]
     },
     "execution_count": 53,
     "metadata": {},
     "output_type": "execute_result"
    },
    {
     "data": {
      "text/html": [
       "<div>\n",
       "<style scoped>\n",
       "    .dataframe tbody tr th:only-of-type {\n",
       "        vertical-align: middle;\n",
       "    }\n",
       "\n",
       "    .dataframe tbody tr th {\n",
       "        vertical-align: top;\n",
       "    }\n",
       "\n",
       "    .dataframe thead th {\n",
       "        text-align: right;\n",
       "    }\n",
       "</style>\n",
       "<table border=\"1\" class=\"dataframe\">\n",
       "  <thead>\n",
       "    <tr style=\"text-align: right;\">\n",
       "      <th></th>\n",
       "      <th>Colorado</th>\n",
       "      <th>Texas</th>\n",
       "      <th>NewYork</th>\n",
       "      <th>Ohio</th>\n",
       "    </tr>\n",
       "  </thead>\n",
       "  <tbody>\n",
       "    <tr>\n",
       "      <th>2000Q1</th>\n",
       "      <td>0.262760</td>\n",
       "      <td>-0.401055</td>\n",
       "      <td>-0.258218</td>\n",
       "      <td>-0.105619</td>\n",
       "    </tr>\n",
       "    <tr>\n",
       "      <th>2000Q2</th>\n",
       "      <td>0.262760</td>\n",
       "      <td>-0.401055</td>\n",
       "      <td>-0.258218</td>\n",
       "      <td>-0.105619</td>\n",
       "    </tr>\n",
       "    <tr>\n",
       "      <th>2000Q3</th>\n",
       "      <td>0.262760</td>\n",
       "      <td>-0.401055</td>\n",
       "      <td>-0.258218</td>\n",
       "      <td>-0.105619</td>\n",
       "    </tr>\n",
       "    <tr>\n",
       "      <th>2000Q4</th>\n",
       "      <td>0.262760</td>\n",
       "      <td>-0.401055</td>\n",
       "      <td>-0.258218</td>\n",
       "      <td>-0.105619</td>\n",
       "    </tr>\n",
       "    <tr>\n",
       "      <th>2001Q1</th>\n",
       "      <td>-0.435094</td>\n",
       "      <td>-0.070998</td>\n",
       "      <td>0.286566</td>\n",
       "      <td>-0.119039</td>\n",
       "    </tr>\n",
       "    <tr>\n",
       "      <th>2001Q2</th>\n",
       "      <td>-0.435094</td>\n",
       "      <td>-0.070998</td>\n",
       "      <td>0.286566</td>\n",
       "      <td>-0.119039</td>\n",
       "    </tr>\n",
       "    <tr>\n",
       "      <th>2001Q3</th>\n",
       "      <td>-0.435094</td>\n",
       "      <td>-0.070998</td>\n",
       "      <td>0.286566</td>\n",
       "      <td>-0.119039</td>\n",
       "    </tr>\n",
       "    <tr>\n",
       "      <th>2001Q4</th>\n",
       "      <td>-0.435094</td>\n",
       "      <td>-0.070998</td>\n",
       "      <td>0.286566</td>\n",
       "      <td>-0.119039</td>\n",
       "    </tr>\n",
       "  </tbody>\n",
       "</table>\n",
       "</div>"
      ],
      "text/plain": [
       "        Colorado     Texas   NewYork      Ohio\n",
       "2000Q1  0.262760 -0.401055 -0.258218 -0.105619\n",
       "2000Q2  0.262760 -0.401055 -0.258218 -0.105619\n",
       "2000Q3  0.262760 -0.401055 -0.258218 -0.105619\n",
       "2000Q4  0.262760 -0.401055 -0.258218 -0.105619\n",
       "2001Q1 -0.435094 -0.070998  0.286566 -0.119039\n",
       "2001Q2 -0.435094 -0.070998  0.286566 -0.119039\n",
       "2001Q3 -0.435094 -0.070998  0.286566 -0.119039\n",
       "2001Q4 -0.435094 -0.070998  0.286566 -0.119039"
      ]
     },
     "execution_count": 53,
     "metadata": {},
     "output_type": "execute_result"
    },
    {
     "data": {
      "text/html": [
       "<div>\n",
       "<style scoped>\n",
       "    .dataframe tbody tr th:only-of-type {\n",
       "        vertical-align: middle;\n",
       "    }\n",
       "\n",
       "    .dataframe tbody tr th {\n",
       "        vertical-align: top;\n",
       "    }\n",
       "\n",
       "    .dataframe thead th {\n",
       "        text-align: right;\n",
       "    }\n",
       "</style>\n",
       "<table border=\"1\" class=\"dataframe\">\n",
       "  <thead>\n",
       "    <tr style=\"text-align: right;\">\n",
       "      <th></th>\n",
       "      <th>Colorado</th>\n",
       "      <th>Texas</th>\n",
       "      <th>NewYork</th>\n",
       "      <th>Ohio</th>\n",
       "    </tr>\n",
       "  </thead>\n",
       "  <tbody>\n",
       "    <tr>\n",
       "      <th>2000Q4</th>\n",
       "      <td>0.262760</td>\n",
       "      <td>-0.401055</td>\n",
       "      <td>-0.258218</td>\n",
       "      <td>-0.105619</td>\n",
       "    </tr>\n",
       "    <tr>\n",
       "      <th>2001Q1</th>\n",
       "      <td>0.262760</td>\n",
       "      <td>-0.401055</td>\n",
       "      <td>-0.258218</td>\n",
       "      <td>-0.105619</td>\n",
       "    </tr>\n",
       "    <tr>\n",
       "      <th>2001Q2</th>\n",
       "      <td>0.262760</td>\n",
       "      <td>-0.401055</td>\n",
       "      <td>-0.258218</td>\n",
       "      <td>-0.105619</td>\n",
       "    </tr>\n",
       "    <tr>\n",
       "      <th>2001Q3</th>\n",
       "      <td>0.262760</td>\n",
       "      <td>-0.401055</td>\n",
       "      <td>-0.258218</td>\n",
       "      <td>-0.105619</td>\n",
       "    </tr>\n",
       "    <tr>\n",
       "      <th>2001Q4</th>\n",
       "      <td>-0.435094</td>\n",
       "      <td>-0.070998</td>\n",
       "      <td>0.286566</td>\n",
       "      <td>-0.119039</td>\n",
       "    </tr>\n",
       "  </tbody>\n",
       "</table>\n",
       "</div>"
      ],
      "text/plain": [
       "        Colorado     Texas   NewYork      Ohio\n",
       "2000Q4  0.262760 -0.401055 -0.258218 -0.105619\n",
       "2001Q1  0.262760 -0.401055 -0.258218 -0.105619\n",
       "2001Q2  0.262760 -0.401055 -0.258218 -0.105619\n",
       "2001Q3  0.262760 -0.401055 -0.258218 -0.105619\n",
       "2001Q4 -0.435094 -0.070998  0.286566 -0.119039"
      ]
     },
     "execution_count": 53,
     "metadata": {},
     "output_type": "execute_result"
    },
    {
     "data": {
      "text/html": [
       "<div>\n",
       "<style scoped>\n",
       "    .dataframe tbody tr th:only-of-type {\n",
       "        vertical-align: middle;\n",
       "    }\n",
       "\n",
       "    .dataframe tbody tr th {\n",
       "        vertical-align: top;\n",
       "    }\n",
       "\n",
       "    .dataframe thead th {\n",
       "        text-align: right;\n",
       "    }\n",
       "</style>\n",
       "<table border=\"1\" class=\"dataframe\">\n",
       "  <thead>\n",
       "    <tr style=\"text-align: right;\">\n",
       "      <th></th>\n",
       "      <th>Colorado</th>\n",
       "      <th>Texas</th>\n",
       "      <th>NewYork</th>\n",
       "      <th>Ohio</th>\n",
       "    </tr>\n",
       "  </thead>\n",
       "  <tbody>\n",
       "    <tr>\n",
       "      <th>2000Q4</th>\n",
       "      <td>0.262760</td>\n",
       "      <td>-0.401055</td>\n",
       "      <td>-0.258218</td>\n",
       "      <td>-0.105619</td>\n",
       "    </tr>\n",
       "    <tr>\n",
       "      <th>2001Q1</th>\n",
       "      <td>0.262760</td>\n",
       "      <td>-0.401055</td>\n",
       "      <td>-0.258218</td>\n",
       "      <td>-0.105619</td>\n",
       "    </tr>\n",
       "    <tr>\n",
       "      <th>2001Q2</th>\n",
       "      <td>0.262760</td>\n",
       "      <td>-0.401055</td>\n",
       "      <td>-0.258218</td>\n",
       "      <td>-0.105619</td>\n",
       "    </tr>\n",
       "    <tr>\n",
       "      <th>2001Q3</th>\n",
       "      <td>0.262760</td>\n",
       "      <td>-0.401055</td>\n",
       "      <td>-0.258218</td>\n",
       "      <td>-0.105619</td>\n",
       "    </tr>\n",
       "    <tr>\n",
       "      <th>2001Q4</th>\n",
       "      <td>-0.435094</td>\n",
       "      <td>-0.070998</td>\n",
       "      <td>0.286566</td>\n",
       "      <td>-0.119039</td>\n",
       "    </tr>\n",
       "    <tr>\n",
       "      <th>2002Q1</th>\n",
       "      <td>-0.435094</td>\n",
       "      <td>-0.070998</td>\n",
       "      <td>0.286566</td>\n",
       "      <td>-0.119039</td>\n",
       "    </tr>\n",
       "    <tr>\n",
       "      <th>2002Q2</th>\n",
       "      <td>-0.435094</td>\n",
       "      <td>-0.070998</td>\n",
       "      <td>0.286566</td>\n",
       "      <td>-0.119039</td>\n",
       "    </tr>\n",
       "    <tr>\n",
       "      <th>2002Q3</th>\n",
       "      <td>-0.435094</td>\n",
       "      <td>-0.070998</td>\n",
       "      <td>0.286566</td>\n",
       "      <td>-0.119039</td>\n",
       "    </tr>\n",
       "  </tbody>\n",
       "</table>\n",
       "</div>"
      ],
      "text/plain": [
       "        Colorado     Texas   NewYork      Ohio\n",
       "2000Q4  0.262760 -0.401055 -0.258218 -0.105619\n",
       "2001Q1  0.262760 -0.401055 -0.258218 -0.105619\n",
       "2001Q2  0.262760 -0.401055 -0.258218 -0.105619\n",
       "2001Q3  0.262760 -0.401055 -0.258218 -0.105619\n",
       "2001Q4 -0.435094 -0.070998  0.286566 -0.119039\n",
       "2002Q1 -0.435094 -0.070998  0.286566 -0.119039\n",
       "2002Q2 -0.435094 -0.070998  0.286566 -0.119039\n",
       "2002Q3 -0.435094 -0.070998  0.286566 -0.119039"
      ]
     },
     "execution_count": 53,
     "metadata": {},
     "output_type": "execute_result"
    }
   ],
   "source": [
    "frame = pd.DataFrame(np.random.randn(24, 4),index=pd.period_range('1-2000', '12-2001',freq='M'),\n",
    "              columns=['Colorado', 'Texas', 'NewYork', 'Ohio'])\n",
    "\n",
    "frame[:5]\n",
    "\n",
    "annual_frame = frame.resample('A-DEC').mean()\n",
    "annual_frame\n",
    "\n",
    "annual_frame.resample('Q-DEC').ffill() # 升采样\n",
    "annual_frame.resample('Q-DEC', convention='end').ffill()  # 新频率中各区间的哪端用于放置原来的值\n",
    "\n",
    "# 不满足条件 会引发异常\n",
    "annual_frame.resample('Q-MAR').ffill()"
   ]
  },
  {
   "cell_type": "markdown",
   "metadata": {},
   "source": [
    "## 移动窗口函数（重点） \n",
    "窗口移动，按频率(步长)移动指定窗口（区间 统计范围）的的数据进行统计；    \n",
    "该部分比较重要，参考有道云笔记下Python-DataManager-Pandas-TimeSeries系列\n",
    "- 普通窗口函数 rolling系列函数\n",
    "- 指数加权窗口函数 ewm系列函数\n",
    "- 扩展窗口平均函数 expanding函数\n",
    "- 二元移动窗口函数 \n",
    "- 用户定义的移动窗口函数  \n",
    "\n",
    "```python\n",
    "DataFrame.rolling(window, min_periods=None, center=False, win_type=None, on=None, axis=0, closed=None)\n",
    "\n",
    "    window： 也可以省略不写。表示时间窗的大小，注意有两种形式（int or offset）。如果使用int，则数值表示计算统计量的观测值的数量即向前几个数据。如果是offset类型，表示时间窗的大小。offset详解 \n",
    "    \n",
    "    min_periods：每个窗口最少包含的观测值数量，小于这个值的窗口结果为NA。值可以是int，默认None。offset情况下，默认为1。 \n",
    "    \n",
    "    center: 把窗口的标签设置为居中。布尔型，默认False，居右 \n",
    "\n",
    "    win_type: 窗口的类型。截取窗的各种函数。字符串类型，默认为None。各种类型 \n",
    "\n",
    "    on: 可选参数。对于dataframe而言，指定要计算滚动窗口的列。值为列名。 \n",
    "\n",
    "    axis: int、字符串，默认为0，即对列进行计算 \n",
    "\n",
    "    closed：定义区间的开闭，支持int类型的window。对于offset类型默认是左开右闭的即默认为right。可以根据情况指定为left both等。\n",
    "```\n"
   ]
  },
  {
   "cell_type": "code",
   "execution_count": 54,
   "metadata": {
    "ExecuteTime": {
     "end_time": "2019-03-08T10:37:58.288173Z",
     "start_time": "2019-03-08T10:37:57.826147Z"
    }
   },
   "outputs": [
    {
     "data": {
      "text/html": [
       "<div>\n",
       "<style scoped>\n",
       "    .dataframe tbody tr th:only-of-type {\n",
       "        vertical-align: middle;\n",
       "    }\n",
       "\n",
       "    .dataframe tbody tr th {\n",
       "        vertical-align: top;\n",
       "    }\n",
       "\n",
       "    .dataframe thead th {\n",
       "        text-align: right;\n",
       "    }\n",
       "</style>\n",
       "<table border=\"1\" class=\"dataframe\">\n",
       "  <thead>\n",
       "    <tr style=\"text-align: right;\">\n",
       "      <th></th>\n",
       "      <th>AAPL</th>\n",
       "      <th>MSFT</th>\n",
       "      <th>XOM</th>\n",
       "    </tr>\n",
       "  </thead>\n",
       "  <tbody>\n",
       "    <tr>\n",
       "      <th>2003-01-02</th>\n",
       "      <td>7.40</td>\n",
       "      <td>21.11</td>\n",
       "      <td>29.22</td>\n",
       "    </tr>\n",
       "    <tr>\n",
       "      <th>2003-01-03</th>\n",
       "      <td>7.45</td>\n",
       "      <td>21.14</td>\n",
       "      <td>29.24</td>\n",
       "    </tr>\n",
       "    <tr>\n",
       "      <th>2003-01-06</th>\n",
       "      <td>7.45</td>\n",
       "      <td>21.52</td>\n",
       "      <td>29.96</td>\n",
       "    </tr>\n",
       "    <tr>\n",
       "      <th>2003-01-07</th>\n",
       "      <td>7.43</td>\n",
       "      <td>21.93</td>\n",
       "      <td>28.95</td>\n",
       "    </tr>\n",
       "    <tr>\n",
       "      <th>2003-01-08</th>\n",
       "      <td>7.28</td>\n",
       "      <td>21.31</td>\n",
       "      <td>28.83</td>\n",
       "    </tr>\n",
       "  </tbody>\n",
       "</table>\n",
       "</div>"
      ],
      "text/plain": [
       "            AAPL   MSFT    XOM\n",
       "2003-01-02  7.40  21.11  29.22\n",
       "2003-01-03  7.45  21.14  29.24\n",
       "2003-01-06  7.45  21.52  29.96\n",
       "2003-01-07  7.43  21.93  28.95\n",
       "2003-01-08  7.28  21.31  28.83"
      ]
     },
     "execution_count": 54,
     "metadata": {},
     "output_type": "execute_result"
    }
   ],
   "source": [
    "# 读取数据 并做重采样\n",
    "close_px_all = pd.read_csv('examples/stock_px_2.csv',parse_dates=True, index_col=0)\n",
    "close_px = close_px_all[['AAPL', 'MSFT', 'XOM']]\n",
    "close_px = close_px.resample('B').ffill()\n",
    "\n",
    "close_px.head()"
   ]
  },
  {
   "cell_type": "code",
   "execution_count": 55,
   "metadata": {
    "ExecuteTime": {
     "end_time": "2019-03-08T10:38:00.083276Z",
     "start_time": "2019-03-08T10:37:58.299174Z"
    }
   },
   "outputs": [
    {
     "data": {
      "image/png": "[encoded data removed]",
      "text/plain": [
       "<Figure size 432x288 with 1 Axes>"
      ]
     },
     "metadata": {
      "image/png": {
       "height": 250,
       "width": 380
      },
      "needs_background": "light"
     },
     "output_type": "display_data"
    }
   ],
   "source": [
    "close_px.AAPL.plot()\n",
    "close_px.AAPL.rolling(250).mean().plot();  # rolling函数 窗口移动函数"
   ]
  },
  {
   "cell_type": "code",
   "execution_count": 56,
   "metadata": {
    "ExecuteTime": {
     "end_time": "2019-03-08T10:38:01.346348Z",
     "start_time": "2019-03-08T10:38:00.096276Z"
    }
   },
   "outputs": [
    {
     "data": {
      "text/plain": [
       "2003-01-09         NaN\n",
       "2003-01-10         NaN\n",
       "2003-01-13         NaN\n",
       "2003-01-14         NaN\n",
       "2003-01-15    0.077496\n",
       "2003-01-16    0.074760\n",
       "2003-01-17    0.112368\n",
       "Freq: B, Name: AAPL, dtype: float64"
      ]
     },
     "execution_count": 56,
     "metadata": {},
     "output_type": "execute_result"
    },
    {
     "data": {
      "text/plain": [
       "<matplotlib.axes._subplots.AxesSubplot at 0x9f40c18>"
      ]
     },
     "execution_count": 56,
     "metadata": {},
     "output_type": "execute_result"
    },
    {
     "data": {
      "image/png": "[encoded data removed]",
      "text/plain": [
       "<Figure size 432x288 with 1 Axes>"
      ]
     },
     "metadata": {
      "image/png": {
       "height": 250,
       "width": 374
      },
      "needs_background": "light"
     },
     "output_type": "display_data"
    }
   ],
   "source": [
    "appl_std250 = close_px.AAPL.rolling(250,min_periods=10).std()\n",
    "appl_std250[5:12]\n",
    "\n",
    "appl_std250.plot()"
   ]
  },
  {
   "cell_type": "code",
   "execution_count": 57,
   "metadata": {
    "ExecuteTime": {
     "end_time": "2019-03-08T10:38:04.827547Z",
     "start_time": "2019-03-08T10:38:01.367349Z"
    }
   },
   "outputs": [
    {
     "data": {
      "image/png": "[encoded data removed]",
      "text/plain": [
       "<Figure size 432x288 with 1 Axes>"
      ]
     },
     "metadata": {
      "image/png": {
       "height": 250,
       "width": 379
      },
      "needs_background": "light"
     },
     "output_type": "display_data"
    }
   ],
   "source": [
    "# 扩展窗口平均函数\n",
    "expanding_mean = appl_std250.expanding().mean()\n",
    "\n",
    "close_px.rolling(60).mean().plot(logy=True);"
   ]
  },
  {
   "cell_type": "code",
   "execution_count": 58,
   "metadata": {
    "ExecuteTime": {
     "end_time": "2019-03-08T10:38:04.891551Z",
     "start_time": "2019-03-08T10:38:04.837548Z"
    }
   },
   "outputs": [
    {
     "data": {
      "text/html": [
       "<div>\n",
       "<style scoped>\n",
       "    .dataframe tbody tr th:only-of-type {\n",
       "        vertical-align: middle;\n",
       "    }\n",
       "\n",
       "    .dataframe tbody tr th {\n",
       "        vertical-align: top;\n",
       "    }\n",
       "\n",
       "    .dataframe thead th {\n",
       "        text-align: right;\n",
       "    }\n",
       "</style>\n",
       "<table border=\"1\" class=\"dataframe\">\n",
       "  <thead>\n",
       "    <tr style=\"text-align: right;\">\n",
       "      <th></th>\n",
       "      <th>AAPL</th>\n",
       "      <th>MSFT</th>\n",
       "      <th>XOM</th>\n",
       "    </tr>\n",
       "  </thead>\n",
       "  <tbody>\n",
       "    <tr>\n",
       "      <th>2003-01-02</th>\n",
       "      <td>7.400000</td>\n",
       "      <td>21.110000</td>\n",
       "      <td>29.220000</td>\n",
       "    </tr>\n",
       "    <tr>\n",
       "      <th>2003-01-03</th>\n",
       "      <td>7.425000</td>\n",
       "      <td>21.125000</td>\n",
       "      <td>29.230000</td>\n",
       "    </tr>\n",
       "    <tr>\n",
       "      <th>2003-01-06</th>\n",
       "      <td>7.433333</td>\n",
       "      <td>21.256667</td>\n",
       "      <td>29.473333</td>\n",
       "    </tr>\n",
       "    <tr>\n",
       "      <th>2003-01-07</th>\n",
       "      <td>7.432500</td>\n",
       "      <td>21.425000</td>\n",
       "      <td>29.342500</td>\n",
       "    </tr>\n",
       "    <tr>\n",
       "      <th>2003-01-08</th>\n",
       "      <td>7.402000</td>\n",
       "      <td>21.402000</td>\n",
       "      <td>29.240000</td>\n",
       "    </tr>\n",
       "    <tr>\n",
       "      <th>...</th>\n",
       "      <td>...</td>\n",
       "      <td>...</td>\n",
       "      <td>...</td>\n",
       "    </tr>\n",
       "    <tr>\n",
       "      <th>2011-10-10</th>\n",
       "      <td>389.351429</td>\n",
       "      <td>25.602143</td>\n",
       "      <td>72.527857</td>\n",
       "    </tr>\n",
       "    <tr>\n",
       "      <th>2011-10-11</th>\n",
       "      <td>388.505000</td>\n",
       "      <td>25.674286</td>\n",
       "      <td>72.835000</td>\n",
       "    </tr>\n",
       "    <tr>\n",
       "      <th>2011-10-12</th>\n",
       "      <td>388.531429</td>\n",
       "      <td>25.810000</td>\n",
       "      <td>73.400714</td>\n",
       "    </tr>\n",
       "    <tr>\n",
       "      <th>2011-10-13</th>\n",
       "      <td>388.826429</td>\n",
       "      <td>25.961429</td>\n",
       "      <td>73.905000</td>\n",
       "    </tr>\n",
       "    <tr>\n",
       "      <th>2011-10-14</th>\n",
       "      <td>391.038000</td>\n",
       "      <td>26.048667</td>\n",
       "      <td>74.185333</td>\n",
       "    </tr>\n",
       "  </tbody>\n",
       "</table>\n",
       "<p>2292 rows × 3 columns</p>\n",
       "</div>"
      ],
      "text/plain": [
       "                  AAPL       MSFT        XOM\n",
       "2003-01-02    7.400000  21.110000  29.220000\n",
       "2003-01-03    7.425000  21.125000  29.230000\n",
       "2003-01-06    7.433333  21.256667  29.473333\n",
       "2003-01-07    7.432500  21.425000  29.342500\n",
       "2003-01-08    7.402000  21.402000  29.240000\n",
       "...                ...        ...        ...\n",
       "2011-10-10  389.351429  25.602143  72.527857\n",
       "2011-10-11  388.505000  25.674286  72.835000\n",
       "2011-10-12  388.531429  25.810000  73.400714\n",
       "2011-10-13  388.826429  25.961429  73.905000\n",
       "2011-10-14  391.038000  26.048667  74.185333\n",
       "\n",
       "[2292 rows x 3 columns]"
      ]
     },
     "execution_count": 58,
     "metadata": {},
     "output_type": "execute_result"
    }
   ],
   "source": [
    "close_px.rolling('20D').mean()"
   ]
  },
  {
   "cell_type": "markdown",
   "metadata": {},
   "source": [
    "### 指数加权函数\n",
    "除了rolling和expanding，pandas还有ewm运算符，这是一个系列函数，有道云笔记已经总结；\n",
    "> 另一种使用固定大小窗口及相等权数观测值的办法是，定义一个衰减因子（decayfactor）常量，以便使近期的观测值拥有更大的权数。衰减因子的定义方式有很多，比较流行的是使用时间间隔（span），它可以使结果兼容于窗口大小等于时间间隔的简单移动窗口（simple moving window）函数"
   ]
  },
  {
   "cell_type": "code",
   "execution_count": 59,
   "metadata": {
    "ExecuteTime": {
     "end_time": "2019-03-08T10:38:06.513643Z",
     "start_time": "2019-03-08T10:38:04.901551Z"
    }
   },
   "outputs": [
    {
     "data": {
      "text/plain": [
       "<matplotlib.axes._subplots.AxesSubplot at 0x9f17cc0>"
      ]
     },
     "execution_count": 59,
     "metadata": {},
     "output_type": "execute_result"
    },
    {
     "data": {
      "text/plain": [
       "<matplotlib.axes._subplots.AxesSubplot at 0x9f17cc0>"
      ]
     },
     "execution_count": 59,
     "metadata": {},
     "output_type": "execute_result"
    },
    {
     "data": {
      "text/plain": [
       "<matplotlib.legend.Legend at 0xa1b3518>"
      ]
     },
     "execution_count": 59,
     "metadata": {},
     "output_type": "execute_result"
    },
    {
     "data": {
      "image/png": "[encoded data removed]",
      "text/plain": [
       "<Figure size 432x288 with 1 Axes>"
      ]
     },
     "metadata": {
      "image/png": {
       "height": 261,
       "width": 377
      },
      "needs_background": "light"
     },
     "output_type": "display_data"
    }
   ],
   "source": [
    "aapl_px = close_px.AAPL['2006':'2007']\n",
    "ma60 = aapl_px.rolling(30, min_periods=20).mean()\n",
    "ewma60 = aapl_px.ewm(span=30).mean()\n",
    "\n",
    "ma60.plot(style='r--', label='Simple MA')\n",
    "ewma60.plot(style='g-', label='EW MA')\n",
    "plt.legend()"
   ]
  },
  {
   "cell_type": "markdown",
   "metadata": {},
   "source": [
    "### 二元移动窗口函数 \n",
    "需要在两个时间序列进行计算"
   ]
  },
  {
   "cell_type": "code",
   "execution_count": 60,
   "metadata": {
    "ExecuteTime": {
     "end_time": "2019-03-08T10:38:07.685710Z",
     "start_time": "2019-03-08T10:38:06.523644Z"
    }
   },
   "outputs": [
    {
     "data": {
      "text/plain": [
       "<matplotlib.axes._subplots.AxesSubplot at 0xa07aef0>"
      ]
     },
     "execution_count": 60,
     "metadata": {},
     "output_type": "execute_result"
    },
    {
     "data": {
      "image/png": "[encoded data removed]",
      "text/plain": [
       "<Figure size 432x288 with 1 Axes>"
      ]
     },
     "metadata": {
      "image/png": {
       "height": 250,
       "width": 377
      },
      "needs_background": "light"
     },
     "output_type": "display_data"
    }
   ],
   "source": [
    "spx_px = close_px_all['SPX']\n",
    "spx_rets = spx_px.pct_change()\n",
    "returns = close_px.pct_change()\n",
    "\n",
    "# 调用rolling之后，corr聚合函数开始计算与spx_rets滚动相关系数\n",
    "corr = returns.AAPL.rolling(125,min_periods=100).corr(spx_rets)\n",
    "corr.plot()"
   ]
  },
  {
   "cell_type": "code",
   "execution_count": 61,
   "metadata": {
    "ExecuteTime": {
     "end_time": "2019-03-08T10:38:09.727827Z",
     "start_time": "2019-03-08T10:38:07.699711Z"
    }
   },
   "outputs": [
    {
     "data": {
      "text/plain": [
       "<matplotlib.axes._subplots.AxesSubplot at 0x9f93320>"
      ]
     },
     "execution_count": 61,
     "metadata": {},
     "output_type": "execute_result"
    },
    {
     "data": {
      "image/png": "[encoded data removed]",
      "text/plain": [
       "<Figure size 432x288 with 1 Axes>"
      ]
     },
     "metadata": {
      "image/png": {
       "height": 250,
       "width": 377
      },
      "needs_background": "light"
     },
     "output_type": "display_data"
    }
   ],
   "source": [
    "# 一次性计算 多个时间序列的相关系数\n",
    "corr = returns.rolling(125, min_periods=100).corr(spx_rets)\n",
    "corr.plot()"
   ]
  },
  {
   "cell_type": "markdown",
   "metadata": {},
   "source": [
    "### 用户自定义移动窗口函数\n",
    "rolling_apply函数使你能够在移动窗口上应用自己设计的数组函数。唯一要求的就是：该函数要能从数组的各个片段中产生单个值（即约简）"
   ]
  },
  {
   "cell_type": "code",
   "execution_count": 62,
   "metadata": {
    "ExecuteTime": {
     "end_time": "2019-03-08T10:38:11.533931Z",
     "start_time": "2019-03-08T10:38:09.735828Z"
    }
   },
   "outputs": [
    {
     "data": {
      "text/plain": [
       "<matplotlib.axes._subplots.AxesSubplot at 0x9e0a828>"
      ]
     },
     "execution_count": 62,
     "metadata": {},
     "output_type": "execute_result"
    },
    {
     "data": {
      "image/png": "[encoded data removed]",
      "text/plain": [
       "<Figure size 432x288 with 1 Axes>"
      ]
     },
     "metadata": {
      "image/png": {
       "height": 250,
       "width": 384
      },
      "needs_background": "light"
     },
     "output_type": "display_data"
    }
   ],
   "source": [
    "from scipy.stats import percentileofscore\n",
    "score_at_2percent = lambda x: percentileofscore(x, 0.02)\n",
    "result = returns.AAPL.rolling(250).apply(score_at_2percent,raw=False)\n",
    "result.plot()"
   ]
  }
 ],
 "metadata": {
  "hide_input": false,
  "kernelspec": {
   "display_name": "python36",
   "language": "python",
   "name": "python36"
  },
  "language_info": {
   "codemirror_mode": {
    "name": "ipython",
    "version": 3
   },
   "file_extension": ".py",
   "mimetype": "text/x-python",
   "name": "python",
   "nbconvert_exporter": "python",
   "pygments_lexer": "ipython3",
   "version": "3.6.6"
  },
  "toc": {
   "nav_menu": {},
   "number_sections": true,
   "sideBar": true,
   "skip_h1_title": false,
   "title_cell": "chapter11 TimeSeries",
   "title_sidebar": "Contents",
   "toc_cell": true,
   "toc_position": {
    "height": "calc(100% - 180px)",
    "left": "10px",
    "top": "150px",
    "width": "270px"
   },
   "toc_section_display": true,
   "toc_window_display": true
  },
  "varInspector": {
   "cols": {
    "lenName": 16,
    "lenType": 16,
    "lenVar": 40
   },
   "kernels_config": {
    "python": {
     "delete_cmd_postfix": "",
     "delete_cmd_prefix": "del ",
     "library": "var_list.py",
     "varRefreshCmd": "print(var_dic_list())"
    },
    "r": {
     "delete_cmd_postfix": ") ",
     "delete_cmd_prefix": "rm(",
     "library": "var_list.r",
     "varRefreshCmd": "cat(var_dic_list()) "
    }
   },
   "types_to_exclude": [
    "module",
    "function",
    "builtin_function_or_method",
    "instance",
    "_Feature"
   ],
   "window_display": false
  }
 },
 "nbformat": 4,
 "nbformat_minor": 2
}
